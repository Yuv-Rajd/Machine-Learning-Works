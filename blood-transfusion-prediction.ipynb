{
 "cells": [
  {
   "cell_type": "markdown",
   "id": "04887e12",
   "metadata": {
    "papermill": {
     "duration": 0.008667,
     "end_time": "2022-11-15T15:55:44.223662",
     "exception": false,
     "start_time": "2022-11-15T15:55:44.214995",
     "status": "completed"
    },
    "tags": []
   },
   "source": [
    "# Blood transfusion classification using ML algorithms and Ensemble methods"
   ]
  },
  {
   "cell_type": "markdown",
   "id": "cf627d0d",
   "metadata": {
    "papermill": {
     "duration": 0.007524,
     "end_time": "2022-11-15T15:55:44.239377",
     "exception": false,
     "start_time": "2022-11-15T15:55:44.231853",
     "status": "completed"
    },
    "tags": []
   },
   "source": [
    "# Importing libraries"
   ]
  },
  {
   "cell_type": "code",
   "execution_count": 1,
   "id": "44329be2",
   "metadata": {
    "execution": {
     "iopub.execute_input": "2022-11-15T15:55:44.257079Z",
     "iopub.status.busy": "2022-11-15T15:55:44.256549Z",
     "iopub.status.idle": "2022-11-15T15:55:45.890943Z",
     "shell.execute_reply": "2022-11-15T15:55:45.889660Z"
    },
    "papermill": {
     "duration": 1.64624,
     "end_time": "2022-11-15T15:55:45.893508",
     "exception": false,
     "start_time": "2022-11-15T15:55:44.247268",
     "status": "completed"
    },
    "tags": []
   },
   "outputs": [],
   "source": [
    "import numpy as np\n",
    "import pandas as pd\n",
    "import seaborn as sns\n",
    "import matplotlib.pyplot as plt\n",
    "%matplotlib inline\n",
    "from sklearn.model_selection import train_test_split\n",
    "from sklearn.ensemble import RandomForestClassifier \n",
    "from sklearn.metrics import confusion_matrix, accuracy_score, classification_report, precision_score, recall_score, accuracy_score, f1_score\n",
    "from sklearn.metrics import matthews_corrcoef\n",
    "from sklearn.metrics import cohen_kappa_score\n",
    "from sklearn.linear_model import LogisticRegression\n",
    "from sklearn.svm import SVC\n",
    "from sklearn.tree import DecisionTreeClassifier\n",
    "from sklearn.neighbors import KNeighborsClassifier\n",
    "from sklearn.ensemble import GradientBoostingClassifier\n",
    "from sklearn.tree import DecisionTreeClassifier\n",
    "from sklearn.ensemble import VotingClassifier\n",
    "from sklearn import model_selection\n",
    "from sklearn.ensemble import StackingClassifier"
   ]
  },
  {
   "cell_type": "markdown",
   "id": "d130b01b",
   "metadata": {
    "papermill": {
     "duration": 0.007536,
     "end_time": "2022-11-15T15:55:45.909092",
     "exception": false,
     "start_time": "2022-11-15T15:55:45.901556",
     "status": "completed"
    },
    "tags": []
   },
   "source": [
    "# Importing Dataset"
   ]
  },
  {
   "cell_type": "code",
   "execution_count": 2,
   "id": "2cc4ffba",
   "metadata": {
    "execution": {
     "iopub.execute_input": "2022-11-15T15:55:45.928332Z",
     "iopub.status.busy": "2022-11-15T15:55:45.927977Z",
     "iopub.status.idle": "2022-11-15T15:55:45.946823Z",
     "shell.execute_reply": "2022-11-15T15:55:45.946031Z"
    },
    "papermill": {
     "duration": 0.030356,
     "end_time": "2022-11-15T15:55:45.948974",
     "exception": false,
     "start_time": "2022-11-15T15:55:45.918618",
     "status": "completed"
    },
    "tags": []
   },
   "outputs": [],
   "source": [
    "data=pd.read_csv('../input/blood-transfusion-dataset/transfusion.csv')"
   ]
  },
  {
   "cell_type": "code",
   "execution_count": 3,
   "id": "9bd6e0f1",
   "metadata": {
    "execution": {
     "iopub.execute_input": "2022-11-15T15:55:45.967505Z",
     "iopub.status.busy": "2022-11-15T15:55:45.966134Z",
     "iopub.status.idle": "2022-11-15T15:55:45.994276Z",
     "shell.execute_reply": "2022-11-15T15:55:45.992871Z"
    },
    "papermill": {
     "duration": 0.039671,
     "end_time": "2022-11-15T15:55:45.996562",
     "exception": false,
     "start_time": "2022-11-15T15:55:45.956891",
     "status": "completed"
    },
    "tags": []
   },
   "outputs": [
    {
     "data": {
      "text/html": [
       "<div>\n",
       "<style scoped>\n",
       "    .dataframe tbody tr th:only-of-type {\n",
       "        vertical-align: middle;\n",
       "    }\n",
       "\n",
       "    .dataframe tbody tr th {\n",
       "        vertical-align: top;\n",
       "    }\n",
       "\n",
       "    .dataframe thead th {\n",
       "        text-align: right;\n",
       "    }\n",
       "</style>\n",
       "<table border=\"1\" class=\"dataframe\">\n",
       "  <thead>\n",
       "    <tr style=\"text-align: right;\">\n",
       "      <th></th>\n",
       "      <th>Recency (months)</th>\n",
       "      <th>Frequency (times)</th>\n",
       "      <th>Monetary (c.c. blood)</th>\n",
       "      <th>Time (months)</th>\n",
       "      <th>whether he/she donated blood in March 2007</th>\n",
       "    </tr>\n",
       "  </thead>\n",
       "  <tbody>\n",
       "    <tr>\n",
       "      <th>0</th>\n",
       "      <td>2</td>\n",
       "      <td>50</td>\n",
       "      <td>12500</td>\n",
       "      <td>98</td>\n",
       "      <td>1</td>\n",
       "    </tr>\n",
       "    <tr>\n",
       "      <th>1</th>\n",
       "      <td>0</td>\n",
       "      <td>13</td>\n",
       "      <td>3250</td>\n",
       "      <td>28</td>\n",
       "      <td>1</td>\n",
       "    </tr>\n",
       "    <tr>\n",
       "      <th>2</th>\n",
       "      <td>1</td>\n",
       "      <td>16</td>\n",
       "      <td>4000</td>\n",
       "      <td>35</td>\n",
       "      <td>1</td>\n",
       "    </tr>\n",
       "  </tbody>\n",
       "</table>\n",
       "</div>"
      ],
      "text/plain": [
       "   Recency (months)  Frequency (times)  Monetary (c.c. blood)  Time (months)  \\\n",
       "0                 2                 50                  12500             98   \n",
       "1                 0                 13                   3250             28   \n",
       "2                 1                 16                   4000             35   \n",
       "\n",
       "   whether he/she donated blood in March 2007  \n",
       "0                                           1  \n",
       "1                                           1  \n",
       "2                                           1  "
      ]
     },
     "execution_count": 3,
     "metadata": {},
     "output_type": "execute_result"
    }
   ],
   "source": [
    "data.head(3)"
   ]
  },
  {
   "cell_type": "markdown",
   "id": "5f7eb766",
   "metadata": {
    "papermill": {
     "duration": 0.008098,
     "end_time": "2022-11-15T15:55:46.013170",
     "exception": false,
     "start_time": "2022-11-15T15:55:46.005072",
     "status": "completed"
    },
    "tags": []
   },
   "source": [
    "# Check for missing values"
   ]
  },
  {
   "cell_type": "code",
   "execution_count": 4,
   "id": "a9b9d604",
   "metadata": {
    "execution": {
     "iopub.execute_input": "2022-11-15T15:55:46.031468Z",
     "iopub.status.busy": "2022-11-15T15:55:46.031019Z",
     "iopub.status.idle": "2022-11-15T15:55:46.040284Z",
     "shell.execute_reply": "2022-11-15T15:55:46.038923Z"
    },
    "papermill": {
     "duration": 0.020985,
     "end_time": "2022-11-15T15:55:46.042457",
     "exception": false,
     "start_time": "2022-11-15T15:55:46.021472",
     "status": "completed"
    },
    "tags": []
   },
   "outputs": [
    {
     "data": {
      "text/plain": [
       "Recency (months)                              0\n",
       "Frequency (times)                             0\n",
       "Monetary (c.c. blood)                         0\n",
       "Time (months)                                 0\n",
       "whether he/she donated blood in March 2007    0\n",
       "dtype: int64"
      ]
     },
     "execution_count": 4,
     "metadata": {},
     "output_type": "execute_result"
    }
   ],
   "source": [
    "data.isnull().sum()"
   ]
  },
  {
   "cell_type": "markdown",
   "id": "31e5dc44",
   "metadata": {
    "papermill": {
     "duration": 0.007959,
     "end_time": "2022-11-15T15:55:46.058693",
     "exception": false,
     "start_time": "2022-11-15T15:55:46.050734",
     "status": "completed"
    },
    "tags": []
   },
   "source": [
    "There are no missing values to remove or add values"
   ]
  },
  {
   "cell_type": "markdown",
   "id": "6b4240b7",
   "metadata": {
    "papermill": {
     "duration": 0.008043,
     "end_time": "2022-11-15T15:55:46.076153",
     "exception": false,
     "start_time": "2022-11-15T15:55:46.068110",
     "status": "completed"
    },
    "tags": []
   },
   "source": [
    "# Exploratory data analysis"
   ]
  },
  {
   "cell_type": "markdown",
   "id": "beb73ded",
   "metadata": {
    "papermill": {
     "duration": 0.00786,
     "end_time": "2022-11-15T15:55:46.092405",
     "exception": false,
     "start_time": "2022-11-15T15:55:46.084545",
     "status": "completed"
    },
    "tags": []
   },
   "source": [
    "The \"Blood Transfusion Service Center\" is a classification problem. \n",
    "The order of this listing corresponds to the order of numerals along the rows of the database.\n",
    "* R (Recency - months since last donation)\n",
    "* F (Frequency - total number of donation)\n",
    "* M (Monetary - total blood donated in c.c.)\n",
    "* T (Time - months since first donation)\n",
    "* A binary variable representing whether he/she donated blood in March 2007 (1 stand for donating blood; 0 stands for not donating blood)\n",
    "\n"
   ]
  },
  {
   "cell_type": "code",
   "execution_count": 5,
   "id": "f23c9bcd",
   "metadata": {
    "execution": {
     "iopub.execute_input": "2022-11-15T15:55:46.111052Z",
     "iopub.status.busy": "2022-11-15T15:55:46.110416Z",
     "iopub.status.idle": "2022-11-15T15:55:46.133592Z",
     "shell.execute_reply": "2022-11-15T15:55:46.132697Z"
    },
    "papermill": {
     "duration": 0.034945,
     "end_time": "2022-11-15T15:55:46.135674",
     "exception": false,
     "start_time": "2022-11-15T15:55:46.100729",
     "status": "completed"
    },
    "tags": []
   },
   "outputs": [
    {
     "name": "stdout",
     "output_type": "stream",
     "text": [
      "<class 'pandas.core.frame.DataFrame'>\n",
      "RangeIndex: 748 entries, 0 to 747\n",
      "Data columns (total 5 columns):\n",
      " #   Column                                      Non-Null Count  Dtype\n",
      "---  ------                                      --------------  -----\n",
      " 0   Recency (months)                            748 non-null    int64\n",
      " 1   Frequency (times)                           748 non-null    int64\n",
      " 2   Monetary (c.c. blood)                       748 non-null    int64\n",
      " 3   Time (months)                               748 non-null    int64\n",
      " 4   whether he/she donated blood in March 2007  748 non-null    int64\n",
      "dtypes: int64(5)\n",
      "memory usage: 29.3 KB\n"
     ]
    }
   ],
   "source": [
    "data.info()"
   ]
  },
  {
   "cell_type": "code",
   "execution_count": 6,
   "id": "657f86ec",
   "metadata": {
    "execution": {
     "iopub.execute_input": "2022-11-15T15:55:46.153312Z",
     "iopub.status.busy": "2022-11-15T15:55:46.152980Z",
     "iopub.status.idle": "2022-11-15T15:55:46.180428Z",
     "shell.execute_reply": "2022-11-15T15:55:46.179144Z"
    },
    "papermill": {
     "duration": 0.039591,
     "end_time": "2022-11-15T15:55:46.183459",
     "exception": false,
     "start_time": "2022-11-15T15:55:46.143868",
     "status": "completed"
    },
    "tags": []
   },
   "outputs": [
    {
     "data": {
      "text/html": [
       "<div>\n",
       "<style scoped>\n",
       "    .dataframe tbody tr th:only-of-type {\n",
       "        vertical-align: middle;\n",
       "    }\n",
       "\n",
       "    .dataframe tbody tr th {\n",
       "        vertical-align: top;\n",
       "    }\n",
       "\n",
       "    .dataframe thead th {\n",
       "        text-align: right;\n",
       "    }\n",
       "</style>\n",
       "<table border=\"1\" class=\"dataframe\">\n",
       "  <thead>\n",
       "    <tr style=\"text-align: right;\">\n",
       "      <th></th>\n",
       "      <th>Recency (months)</th>\n",
       "      <th>Frequency (times)</th>\n",
       "      <th>Monetary (c.c. blood)</th>\n",
       "      <th>Time (months)</th>\n",
       "      <th>whether he/she donated blood in March 2007</th>\n",
       "    </tr>\n",
       "  </thead>\n",
       "  <tbody>\n",
       "    <tr>\n",
       "      <th>count</th>\n",
       "      <td>748.000000</td>\n",
       "      <td>748.000000</td>\n",
       "      <td>748.000000</td>\n",
       "      <td>748.000000</td>\n",
       "      <td>748.000000</td>\n",
       "    </tr>\n",
       "    <tr>\n",
       "      <th>mean</th>\n",
       "      <td>9.506684</td>\n",
       "      <td>5.514706</td>\n",
       "      <td>1378.676471</td>\n",
       "      <td>34.282086</td>\n",
       "      <td>0.237968</td>\n",
       "    </tr>\n",
       "    <tr>\n",
       "      <th>std</th>\n",
       "      <td>8.095396</td>\n",
       "      <td>5.839307</td>\n",
       "      <td>1459.826781</td>\n",
       "      <td>24.376714</td>\n",
       "      <td>0.426124</td>\n",
       "    </tr>\n",
       "    <tr>\n",
       "      <th>min</th>\n",
       "      <td>0.000000</td>\n",
       "      <td>1.000000</td>\n",
       "      <td>250.000000</td>\n",
       "      <td>2.000000</td>\n",
       "      <td>0.000000</td>\n",
       "    </tr>\n",
       "    <tr>\n",
       "      <th>25%</th>\n",
       "      <td>2.750000</td>\n",
       "      <td>2.000000</td>\n",
       "      <td>500.000000</td>\n",
       "      <td>16.000000</td>\n",
       "      <td>0.000000</td>\n",
       "    </tr>\n",
       "    <tr>\n",
       "      <th>50%</th>\n",
       "      <td>7.000000</td>\n",
       "      <td>4.000000</td>\n",
       "      <td>1000.000000</td>\n",
       "      <td>28.000000</td>\n",
       "      <td>0.000000</td>\n",
       "    </tr>\n",
       "    <tr>\n",
       "      <th>75%</th>\n",
       "      <td>14.000000</td>\n",
       "      <td>7.000000</td>\n",
       "      <td>1750.000000</td>\n",
       "      <td>50.000000</td>\n",
       "      <td>0.000000</td>\n",
       "    </tr>\n",
       "    <tr>\n",
       "      <th>max</th>\n",
       "      <td>74.000000</td>\n",
       "      <td>50.000000</td>\n",
       "      <td>12500.000000</td>\n",
       "      <td>98.000000</td>\n",
       "      <td>1.000000</td>\n",
       "    </tr>\n",
       "  </tbody>\n",
       "</table>\n",
       "</div>"
      ],
      "text/plain": [
       "       Recency (months)  Frequency (times)  Monetary (c.c. blood)  \\\n",
       "count        748.000000         748.000000             748.000000   \n",
       "mean           9.506684           5.514706            1378.676471   \n",
       "std            8.095396           5.839307            1459.826781   \n",
       "min            0.000000           1.000000             250.000000   \n",
       "25%            2.750000           2.000000             500.000000   \n",
       "50%            7.000000           4.000000            1000.000000   \n",
       "75%           14.000000           7.000000            1750.000000   \n",
       "max           74.000000          50.000000           12500.000000   \n",
       "\n",
       "       Time (months)  whether he/she donated blood in March 2007  \n",
       "count     748.000000                                  748.000000  \n",
       "mean       34.282086                                    0.237968  \n",
       "std        24.376714                                    0.426124  \n",
       "min         2.000000                                    0.000000  \n",
       "25%        16.000000                                    0.000000  \n",
       "50%        28.000000                                    0.000000  \n",
       "75%        50.000000                                    0.000000  \n",
       "max        98.000000                                    1.000000  "
      ]
     },
     "execution_count": 6,
     "metadata": {},
     "output_type": "execute_result"
    }
   ],
   "source": [
    "data.describe()"
   ]
  },
  {
   "cell_type": "code",
   "execution_count": 7,
   "id": "a407bcd8",
   "metadata": {
    "execution": {
     "iopub.execute_input": "2022-11-15T15:55:46.203212Z",
     "iopub.status.busy": "2022-11-15T15:55:46.202841Z",
     "iopub.status.idle": "2022-11-15T15:55:46.495051Z",
     "shell.execute_reply": "2022-11-15T15:55:46.494381Z"
    },
    "papermill": {
     "duration": 0.305008,
     "end_time": "2022-11-15T15:55:46.497153",
     "exception": false,
     "start_time": "2022-11-15T15:55:46.192145",
     "status": "completed"
    },
    "tags": []
   },
   "outputs": [
    {
     "data": {
      "text/plain": [
       "<AxesSubplot:>"
      ]
     },
     "execution_count": 7,
     "metadata": {},
     "output_type": "execute_result"
    },
    {
     "data": {
      "image/png": "[encoded data removed]",
      "text/plain": [
       "<Figure size 432x288 with 2 Axes>"
      ]
     },
     "metadata": {
      "needs_background": "light"
     },
     "output_type": "display_data"
    }
   ],
   "source": [
    "sns.heatmap(data.corr(),cmap='BuPu')"
   ]
  },
  {
   "cell_type": "markdown",
   "id": "7697f3d9",
   "metadata": {
    "papermill": {
     "duration": 0.009249,
     "end_time": "2022-11-15T15:55:46.515380",
     "exception": false,
     "start_time": "2022-11-15T15:55:46.506131",
     "status": "completed"
    },
    "tags": []
   },
   "source": [
    "Heatmaps helps us to understand the correlation between each variables"
   ]
  },
  {
   "cell_type": "code",
   "execution_count": 8,
   "id": "130bb56e",
   "metadata": {
    "execution": {
     "iopub.execute_input": "2022-11-15T15:55:46.536041Z",
     "iopub.status.busy": "2022-11-15T15:55:46.533990Z",
     "iopub.status.idle": "2022-11-15T15:55:46.542976Z",
     "shell.execute_reply": "2022-11-15T15:55:46.541742Z"
    },
    "papermill": {
     "duration": 0.021382,
     "end_time": "2022-11-15T15:55:46.545599",
     "exception": false,
     "start_time": "2022-11-15T15:55:46.524217",
     "status": "completed"
    },
    "tags": []
   },
   "outputs": [
    {
     "data": {
      "text/plain": [
       "Index(['Recency (months)', 'Frequency (times)', 'Monetary (c.c. blood)',\n",
       "       'Time (months)', 'whether he/she donated blood in March 2007'],\n",
       "      dtype='object')"
      ]
     },
     "execution_count": 8,
     "metadata": {},
     "output_type": "execute_result"
    }
   ],
   "source": [
    "data.columns"
   ]
  },
  {
   "cell_type": "markdown",
   "id": "6b0ffa9e",
   "metadata": {
    "papermill": {
     "duration": 0.008535,
     "end_time": "2022-11-15T15:55:46.563510",
     "exception": false,
     "start_time": "2022-11-15T15:55:46.554975",
     "status": "completed"
    },
    "tags": []
   },
   "source": [
    "# Splitting dataset into train and test"
   ]
  },
  {
   "cell_type": "code",
   "execution_count": 9,
   "id": "a09bfe71",
   "metadata": {
    "execution": {
     "iopub.execute_input": "2022-11-15T15:55:46.582512Z",
     "iopub.status.busy": "2022-11-15T15:55:46.582174Z",
     "iopub.status.idle": "2022-11-15T15:55:46.587985Z",
     "shell.execute_reply": "2022-11-15T15:55:46.586906Z"
    },
    "papermill": {
     "duration": 0.018109,
     "end_time": "2022-11-15T15:55:46.590483",
     "exception": false,
     "start_time": "2022-11-15T15:55:46.572374",
     "status": "completed"
    },
    "tags": []
   },
   "outputs": [],
   "source": [
    "X=data[['Recency (months)', 'Frequency (times)', 'Monetary (c.c. blood)','Time (months)']]\n",
    "y=data['whether he/she donated blood in March 2007']"
   ]
  },
  {
   "cell_type": "code",
   "execution_count": 10,
   "id": "7307d7bf",
   "metadata": {
    "execution": {
     "iopub.execute_input": "2022-11-15T15:55:46.611271Z",
     "iopub.status.busy": "2022-11-15T15:55:46.610653Z",
     "iopub.status.idle": "2022-11-15T15:55:46.620562Z",
     "shell.execute_reply": "2022-11-15T15:55:46.618974Z"
    },
    "papermill": {
     "duration": 0.023058,
     "end_time": "2022-11-15T15:55:46.623251",
     "exception": false,
     "start_time": "2022-11-15T15:55:46.600193",
     "status": "completed"
    },
    "tags": []
   },
   "outputs": [
    {
     "name": "stderr",
     "output_type": "stream",
     "text": [
      "/opt/conda/lib/python3.7/site-packages/ipykernel_launcher.py:2: SettingWithCopyWarning: \n",
      "A value is trying to be set on a copy of a slice from a DataFrame.\n",
      "Try using .loc[row_indexer,col_indexer] = value instead\n",
      "\n",
      "See the caveats in the documentation: https://pandas.pydata.org/pandas-docs/stable/user_guide/indexing.html#returning-a-view-versus-a-copy\n",
      "  \n"
     ]
    }
   ],
   "source": [
    "for column in X.columns:\n",
    "    X[column] = (X[column] - X[column].min()) / (X[column].max() - X[column].min()) "
   ]
  },
  {
   "cell_type": "code",
   "execution_count": 11,
   "id": "da4c69b8",
   "metadata": {
    "execution": {
     "iopub.execute_input": "2022-11-15T15:55:46.644942Z",
     "iopub.status.busy": "2022-11-15T15:55:46.643511Z",
     "iopub.status.idle": "2022-11-15T15:55:46.658402Z",
     "shell.execute_reply": "2022-11-15T15:55:46.657531Z"
    },
    "papermill": {
     "duration": 0.027038,
     "end_time": "2022-11-15T15:55:46.660280",
     "exception": false,
     "start_time": "2022-11-15T15:55:46.633242",
     "status": "completed"
    },
    "tags": []
   },
   "outputs": [
    {
     "data": {
      "text/html": [
       "<div>\n",
       "<style scoped>\n",
       "    .dataframe tbody tr th:only-of-type {\n",
       "        vertical-align: middle;\n",
       "    }\n",
       "\n",
       "    .dataframe tbody tr th {\n",
       "        vertical-align: top;\n",
       "    }\n",
       "\n",
       "    .dataframe thead th {\n",
       "        text-align: right;\n",
       "    }\n",
       "</style>\n",
       "<table border=\"1\" class=\"dataframe\">\n",
       "  <thead>\n",
       "    <tr style=\"text-align: right;\">\n",
       "      <th></th>\n",
       "      <th>Recency (months)</th>\n",
       "      <th>Frequency (times)</th>\n",
       "      <th>Monetary (c.c. blood)</th>\n",
       "      <th>Time (months)</th>\n",
       "    </tr>\n",
       "  </thead>\n",
       "  <tbody>\n",
       "    <tr>\n",
       "      <th>0</th>\n",
       "      <td>0.027027</td>\n",
       "      <td>1.000000</td>\n",
       "      <td>1.000000</td>\n",
       "      <td>1.000000</td>\n",
       "    </tr>\n",
       "    <tr>\n",
       "      <th>1</th>\n",
       "      <td>0.000000</td>\n",
       "      <td>0.244898</td>\n",
       "      <td>0.244898</td>\n",
       "      <td>0.270833</td>\n",
       "    </tr>\n",
       "    <tr>\n",
       "      <th>2</th>\n",
       "      <td>0.013514</td>\n",
       "      <td>0.306122</td>\n",
       "      <td>0.306122</td>\n",
       "      <td>0.343750</td>\n",
       "    </tr>\n",
       "    <tr>\n",
       "      <th>3</th>\n",
       "      <td>0.027027</td>\n",
       "      <td>0.387755</td>\n",
       "      <td>0.387755</td>\n",
       "      <td>0.447917</td>\n",
       "    </tr>\n",
       "    <tr>\n",
       "      <th>4</th>\n",
       "      <td>0.013514</td>\n",
       "      <td>0.469388</td>\n",
       "      <td>0.469388</td>\n",
       "      <td>0.781250</td>\n",
       "    </tr>\n",
       "    <tr>\n",
       "      <th>...</th>\n",
       "      <td>...</td>\n",
       "      <td>...</td>\n",
       "      <td>...</td>\n",
       "      <td>...</td>\n",
       "    </tr>\n",
       "    <tr>\n",
       "      <th>743</th>\n",
       "      <td>0.310811</td>\n",
       "      <td>0.020408</td>\n",
       "      <td>0.020408</td>\n",
       "      <td>0.375000</td>\n",
       "    </tr>\n",
       "    <tr>\n",
       "      <th>744</th>\n",
       "      <td>0.283784</td>\n",
       "      <td>0.020408</td>\n",
       "      <td>0.020408</td>\n",
       "      <td>0.520833</td>\n",
       "    </tr>\n",
       "    <tr>\n",
       "      <th>745</th>\n",
       "      <td>0.310811</td>\n",
       "      <td>0.040816</td>\n",
       "      <td>0.040816</td>\n",
       "      <td>0.625000</td>\n",
       "    </tr>\n",
       "    <tr>\n",
       "      <th>746</th>\n",
       "      <td>0.527027</td>\n",
       "      <td>0.000000</td>\n",
       "      <td>0.000000</td>\n",
       "      <td>0.385417</td>\n",
       "    </tr>\n",
       "    <tr>\n",
       "      <th>747</th>\n",
       "      <td>0.972973</td>\n",
       "      <td>0.000000</td>\n",
       "      <td>0.000000</td>\n",
       "      <td>0.729167</td>\n",
       "    </tr>\n",
       "  </tbody>\n",
       "</table>\n",
       "<p>748 rows × 4 columns</p>\n",
       "</div>"
      ],
      "text/plain": [
       "     Recency (months)  Frequency (times)  Monetary (c.c. blood)  Time (months)\n",
       "0            0.027027           1.000000               1.000000       1.000000\n",
       "1            0.000000           0.244898               0.244898       0.270833\n",
       "2            0.013514           0.306122               0.306122       0.343750\n",
       "3            0.027027           0.387755               0.387755       0.447917\n",
       "4            0.013514           0.469388               0.469388       0.781250\n",
       "..                ...                ...                    ...            ...\n",
       "743          0.310811           0.020408               0.020408       0.375000\n",
       "744          0.283784           0.020408               0.020408       0.520833\n",
       "745          0.310811           0.040816               0.040816       0.625000\n",
       "746          0.527027           0.000000               0.000000       0.385417\n",
       "747          0.972973           0.000000               0.000000       0.729167\n",
       "\n",
       "[748 rows x 4 columns]"
      ]
     },
     "execution_count": 11,
     "metadata": {},
     "output_type": "execute_result"
    }
   ],
   "source": [
    "X"
   ]
  },
  {
   "cell_type": "markdown",
   "id": "cfaab7d7",
   "metadata": {
    "papermill": {
     "duration": 0.009183,
     "end_time": "2022-11-15T15:55:46.679209",
     "exception": false,
     "start_time": "2022-11-15T15:55:46.670026",
     "status": "completed"
    },
    "tags": []
   },
   "source": [
    "Scaling of data was done.This helps us to get better results"
   ]
  },
  {
   "cell_type": "code",
   "execution_count": 12,
   "id": "86f6a443",
   "metadata": {
    "execution": {
     "iopub.execute_input": "2022-11-15T15:55:46.699840Z",
     "iopub.status.busy": "2022-11-15T15:55:46.699438Z",
     "iopub.status.idle": "2022-11-15T15:55:46.708393Z",
     "shell.execute_reply": "2022-11-15T15:55:46.707428Z"
    },
    "papermill": {
     "duration": 0.021554,
     "end_time": "2022-11-15T15:55:46.710290",
     "exception": false,
     "start_time": "2022-11-15T15:55:46.688736",
     "status": "completed"
    },
    "tags": []
   },
   "outputs": [],
   "source": [
    "X_train,X_test,y_train,y_test=train_test_split(X,y,test_size=0.3)"
   ]
  },
  {
   "cell_type": "code",
   "execution_count": 13,
   "id": "f4f0064b",
   "metadata": {
    "execution": {
     "iopub.execute_input": "2022-11-15T15:55:46.731544Z",
     "iopub.status.busy": "2022-11-15T15:55:46.730931Z",
     "iopub.status.idle": "2022-11-15T15:55:46.736645Z",
     "shell.execute_reply": "2022-11-15T15:55:46.735716Z"
    },
    "papermill": {
     "duration": 0.019149,
     "end_time": "2022-11-15T15:55:46.739045",
     "exception": false,
     "start_time": "2022-11-15T15:55:46.719896",
     "status": "completed"
    },
    "tags": []
   },
   "outputs": [
    {
     "data": {
      "text/plain": [
       "(523, 4)"
      ]
     },
     "execution_count": 13,
     "metadata": {},
     "output_type": "execute_result"
    }
   ],
   "source": [
    "X_train.shape"
   ]
  },
  {
   "cell_type": "code",
   "execution_count": 14,
   "id": "299441df",
   "metadata": {
    "execution": {
     "iopub.execute_input": "2022-11-15T15:55:46.760322Z",
     "iopub.status.busy": "2022-11-15T15:55:46.759726Z",
     "iopub.status.idle": "2022-11-15T15:55:46.765994Z",
     "shell.execute_reply": "2022-11-15T15:55:46.764828Z"
    },
    "papermill": {
     "duration": 0.019666,
     "end_time": "2022-11-15T15:55:46.768444",
     "exception": false,
     "start_time": "2022-11-15T15:55:46.748778",
     "status": "completed"
    },
    "tags": []
   },
   "outputs": [
    {
     "data": {
      "text/plain": [
       "(225, 4)"
      ]
     },
     "execution_count": 14,
     "metadata": {},
     "output_type": "execute_result"
    }
   ],
   "source": [
    "X_test.shape"
   ]
  },
  {
   "cell_type": "code",
   "execution_count": 15,
   "id": "1a7a22a2",
   "metadata": {
    "execution": {
     "iopub.execute_input": "2022-11-15T15:55:46.790644Z",
     "iopub.status.busy": "2022-11-15T15:55:46.790116Z",
     "iopub.status.idle": "2022-11-15T15:55:46.794758Z",
     "shell.execute_reply": "2022-11-15T15:55:46.794101Z"
    },
    "papermill": {
     "duration": 0.018072,
     "end_time": "2022-11-15T15:55:46.797009",
     "exception": false,
     "start_time": "2022-11-15T15:55:46.778937",
     "status": "completed"
    },
    "tags": []
   },
   "outputs": [
    {
     "data": {
      "text/plain": [
       "(523,)"
      ]
     },
     "execution_count": 15,
     "metadata": {},
     "output_type": "execute_result"
    }
   ],
   "source": [
    "y_train.shape"
   ]
  },
  {
   "cell_type": "code",
   "execution_count": 16,
   "id": "675e04c4",
   "metadata": {
    "execution": {
     "iopub.execute_input": "2022-11-15T15:55:46.819267Z",
     "iopub.status.busy": "2022-11-15T15:55:46.818669Z",
     "iopub.status.idle": "2022-11-15T15:55:46.823570Z",
     "shell.execute_reply": "2022-11-15T15:55:46.822903Z"
    },
    "papermill": {
     "duration": 0.017731,
     "end_time": "2022-11-15T15:55:46.825300",
     "exception": false,
     "start_time": "2022-11-15T15:55:46.807569",
     "status": "completed"
    },
    "tags": []
   },
   "outputs": [
    {
     "data": {
      "text/plain": [
       "(225,)"
      ]
     },
     "execution_count": 16,
     "metadata": {},
     "output_type": "execute_result"
    }
   ],
   "source": [
    "y_test.shape"
   ]
  },
  {
   "cell_type": "markdown",
   "id": "b90ec56a",
   "metadata": {
    "papermill": {
     "duration": 0.009854,
     "end_time": "2022-11-15T15:55:46.845273",
     "exception": false,
     "start_time": "2022-11-15T15:55:46.835419",
     "status": "completed"
    },
    "tags": []
   },
   "source": [
    "# Training ML algorithms"
   ]
  },
  {
   "cell_type": "markdown",
   "id": "b340e520",
   "metadata": {
    "papermill": {
     "duration": 0.009883,
     "end_time": "2022-11-15T15:55:46.865262",
     "exception": false,
     "start_time": "2022-11-15T15:55:46.855379",
     "status": "completed"
    },
    "tags": []
   },
   "source": [
    "**Random forest** "
   ]
  },
  {
   "cell_type": "code",
   "execution_count": 17,
   "id": "3506f062",
   "metadata": {
    "execution": {
     "iopub.execute_input": "2022-11-15T15:55:46.887910Z",
     "iopub.status.busy": "2022-11-15T15:55:46.887191Z",
     "iopub.status.idle": "2022-11-15T15:55:46.913093Z",
     "shell.execute_reply": "2022-11-15T15:55:46.912363Z"
    },
    "papermill": {
     "duration": 0.04031,
     "end_time": "2022-11-15T15:55:46.915668",
     "exception": false,
     "start_time": "2022-11-15T15:55:46.875358",
     "status": "completed"
    },
    "tags": []
   },
   "outputs": [
    {
     "data": {
      "text/plain": [
       "RandomForestClassifier(n_estimators=10)"
      ]
     },
     "execution_count": 17,
     "metadata": {},
     "output_type": "execute_result"
    }
   ],
   "source": [
    "classifier= RandomForestClassifier(n_estimators= 10)  \n",
    "classifier.fit(X_train, y_train) "
   ]
  },
  {
   "cell_type": "code",
   "execution_count": 18,
   "id": "e6c312ba",
   "metadata": {
    "execution": {
     "iopub.execute_input": "2022-11-15T15:55:46.937447Z",
     "iopub.status.busy": "2022-11-15T15:55:46.936916Z",
     "iopub.status.idle": "2022-11-15T15:55:46.944673Z",
     "shell.execute_reply": "2022-11-15T15:55:46.943384Z"
    },
    "papermill": {
     "duration": 0.021432,
     "end_time": "2022-11-15T15:55:46.947213",
     "exception": false,
     "start_time": "2022-11-15T15:55:46.925781",
     "status": "completed"
    },
    "tags": []
   },
   "outputs": [],
   "source": [
    "y_pred= classifier.predict(X_test)  "
   ]
  },
  {
   "cell_type": "markdown",
   "id": "49c03a69",
   "metadata": {
    "papermill": {
     "duration": 0.009594,
     "end_time": "2022-11-15T15:55:46.966731",
     "exception": false,
     "start_time": "2022-11-15T15:55:46.957137",
     "status": "completed"
    },
    "tags": []
   },
   "source": [
    "**Evaluation Metrics**"
   ]
  },
  {
   "cell_type": "code",
   "execution_count": 19,
   "id": "2ef716f3",
   "metadata": {
    "execution": {
     "iopub.execute_input": "2022-11-15T15:55:46.990305Z",
     "iopub.status.busy": "2022-11-15T15:55:46.989720Z",
     "iopub.status.idle": "2022-11-15T15:55:46.997238Z",
     "shell.execute_reply": "2022-11-15T15:55:46.996046Z"
    },
    "papermill": {
     "duration": 0.022458,
     "end_time": "2022-11-15T15:55:46.999301",
     "exception": false,
     "start_time": "2022-11-15T15:55:46.976843",
     "status": "completed"
    },
    "tags": []
   },
   "outputs": [],
   "source": [
    "def eval_metrics(model, X_train, y_train, X_test, y_test):\n",
    "    y_train_pred = model.predict(X_train)\n",
    "    y_pred = model.predict(X_test)\n",
    "    \n",
    "    print(\"Test_Set\")\n",
    "    print(confusion_matrix(y_test, y_pred))\n",
    "    print(classification_report(y_test, y_pred))\n",
    "    print()\n",
    "    print(\"Train_Set\")\n",
    "    print(confusion_matrix(y_train, y_train_pred))\n",
    "    print(classification_report(y_train, y_train_pred))"
   ]
  },
  {
   "cell_type": "code",
   "execution_count": 20,
   "id": "9eff4f85",
   "metadata": {
    "execution": {
     "iopub.execute_input": "2022-11-15T15:55:47.023146Z",
     "iopub.status.busy": "2022-11-15T15:55:47.022687Z",
     "iopub.status.idle": "2022-11-15T15:55:47.049658Z",
     "shell.execute_reply": "2022-11-15T15:55:47.048859Z"
    },
    "papermill": {
     "duration": 0.043128,
     "end_time": "2022-11-15T15:55:47.052892",
     "exception": false,
     "start_time": "2022-11-15T15:55:47.009764",
     "status": "completed"
    },
    "tags": []
   },
   "outputs": [
    {
     "name": "stdout",
     "output_type": "stream",
     "text": [
      "Test_Set\n",
      "[[162  15]\n",
      " [ 34  14]]\n",
      "              precision    recall  f1-score   support\n",
      "\n",
      "           0       0.83      0.92      0.87       177\n",
      "           1       0.48      0.29      0.36        48\n",
      "\n",
      "    accuracy                           0.78       225\n",
      "   macro avg       0.65      0.60      0.62       225\n",
      "weighted avg       0.75      0.78      0.76       225\n",
      "\n",
      "\n",
      "Train_Set\n",
      "[[388   5]\n",
      " [ 42  88]]\n",
      "              precision    recall  f1-score   support\n",
      "\n",
      "           0       0.90      0.99      0.94       393\n",
      "           1       0.95      0.68      0.79       130\n",
      "\n",
      "    accuracy                           0.91       523\n",
      "   macro avg       0.92      0.83      0.87       523\n",
      "weighted avg       0.91      0.91      0.90       523\n",
      "\n"
     ]
    }
   ],
   "source": [
    "eval_metrics(classifier,X_train, y_train, X_test, y_test)"
   ]
  },
  {
   "cell_type": "markdown",
   "id": "71c14ea5",
   "metadata": {
    "papermill": {
     "duration": 0.011035,
     "end_time": "2022-11-15T15:55:47.076999",
     "exception": false,
     "start_time": "2022-11-15T15:55:47.065964",
     "status": "completed"
    },
    "tags": []
   },
   "source": [
    "**XG Boost**"
   ]
  },
  {
   "cell_type": "code",
   "execution_count": 21,
   "id": "01ce79d8",
   "metadata": {
    "execution": {
     "iopub.execute_input": "2022-11-15T15:55:47.099510Z",
     "iopub.status.busy": "2022-11-15T15:55:47.099102Z",
     "iopub.status.idle": "2022-11-15T15:55:47.409006Z",
     "shell.execute_reply": "2022-11-15T15:55:47.408057Z"
    },
    "papermill": {
     "duration": 0.324227,
     "end_time": "2022-11-15T15:55:47.411545",
     "exception": false,
     "start_time": "2022-11-15T15:55:47.087318",
     "status": "completed"
    },
    "tags": []
   },
   "outputs": [
    {
     "data": {
      "text/plain": [
       "XGBClassifier(base_score=0.5, booster='gbtree', callbacks=None,\n",
       "              colsample_bylevel=1, colsample_bynode=1, colsample_bytree=1,\n",
       "              early_stopping_rounds=None, enable_categorical=False,\n",
       "              eval_metric=None, gamma=0, gpu_id=-1, grow_policy='depthwise',\n",
       "              importance_type=None, interaction_constraints='',\n",
       "              learning_rate=0.300000012, max_bin=256, max_cat_to_onehot=4,\n",
       "              max_delta_step=0, max_depth=6, max_leaves=0, min_child_weight=1,\n",
       "              missing=nan, monotone_constraints='()', n_estimators=100,\n",
       "              n_jobs=0, num_parallel_tree=1, predictor='auto', random_state=0,\n",
       "              reg_alpha=0, reg_lambda=1, ...)"
      ]
     },
     "execution_count": 21,
     "metadata": {},
     "output_type": "execute_result"
    }
   ],
   "source": [
    "from xgboost import XGBClassifier\n",
    "xgb_model=XGBClassifier()\n",
    "xgb_model.fit(X_train,y_train)"
   ]
  },
  {
   "cell_type": "code",
   "execution_count": 22,
   "id": "9d498ce5",
   "metadata": {
    "execution": {
     "iopub.execute_input": "2022-11-15T15:55:47.433452Z",
     "iopub.status.busy": "2022-11-15T15:55:47.432662Z",
     "iopub.status.idle": "2022-11-15T15:55:47.455150Z",
     "shell.execute_reply": "2022-11-15T15:55:47.454156Z"
    },
    "papermill": {
     "duration": 0.035512,
     "end_time": "2022-11-15T15:55:47.457059",
     "exception": false,
     "start_time": "2022-11-15T15:55:47.421547",
     "status": "completed"
    },
    "tags": []
   },
   "outputs": [
    {
     "name": "stdout",
     "output_type": "stream",
     "text": [
      "Test_Set\n",
      "[[151  26]\n",
      " [ 28  20]]\n",
      "              precision    recall  f1-score   support\n",
      "\n",
      "           0       0.84      0.85      0.85       177\n",
      "           1       0.43      0.42      0.43        48\n",
      "\n",
      "    accuracy                           0.76       225\n",
      "   macro avg       0.64      0.63      0.64       225\n",
      "weighted avg       0.76      0.76      0.76       225\n",
      "\n",
      "\n",
      "Train_Set\n",
      "[[383  10]\n",
      " [ 32  98]]\n",
      "              precision    recall  f1-score   support\n",
      "\n",
      "           0       0.92      0.97      0.95       393\n",
      "           1       0.91      0.75      0.82       130\n",
      "\n",
      "    accuracy                           0.92       523\n",
      "   macro avg       0.92      0.86      0.89       523\n",
      "weighted avg       0.92      0.92      0.92       523\n",
      "\n"
     ]
    }
   ],
   "source": [
    "eval_metrics(xgb_model,X_train, y_train, X_test, y_test)"
   ]
  },
  {
   "cell_type": "markdown",
   "id": "db114715",
   "metadata": {
    "papermill": {
     "duration": 0.009577,
     "end_time": "2022-11-15T15:55:47.476830",
     "exception": false,
     "start_time": "2022-11-15T15:55:47.467253",
     "status": "completed"
    },
    "tags": []
   },
   "source": [
    "**Voting Classifier**"
   ]
  },
  {
   "cell_type": "code",
   "execution_count": 23,
   "id": "f8d98caf",
   "metadata": {
    "execution": {
     "iopub.execute_input": "2022-11-15T15:55:47.498839Z",
     "iopub.status.busy": "2022-11-15T15:55:47.498302Z",
     "iopub.status.idle": "2022-11-15T15:55:48.567810Z",
     "shell.execute_reply": "2022-11-15T15:55:48.566785Z"
    },
    "papermill": {
     "duration": 1.083015,
     "end_time": "2022-11-15T15:55:48.569761",
     "exception": false,
     "start_time": "2022-11-15T15:55:47.486746",
     "status": "completed"
    },
    "tags": []
   },
   "outputs": [
    {
     "name": "stdout",
     "output_type": "stream",
     "text": [
      "0.7664144144144144\n"
     ]
    }
   ],
   "source": [
    "kfold = model_selection.KFold(n_splits=10)\n",
    "# create the sub models\n",
    "estimators = []\n",
    "model1 = LogisticRegression()\n",
    "estimators.append(('logistic', model1))\n",
    "model2 = DecisionTreeClassifier()\n",
    "estimators.append(('dt', model2))\n",
    "model3 = SVC()\n",
    "estimators.append(('svm', model3))\n",
    "model4= KNeighborsClassifier(n_neighbors=2)\n",
    "estimators.append(('knn', model4))\n",
    "model5=  GradientBoostingClassifier(n_estimators=100, learning_rate=0.01)\n",
    "estimators.append(('gb', model5))\n",
    "# create the ensemble model\n",
    "ensemble = VotingClassifier(estimators)\n",
    "results = model_selection.cross_val_score(ensemble, X, y, cv=kfold)\n",
    "print(results.mean())"
   ]
  },
  {
   "cell_type": "markdown",
   "id": "b2cc09e2",
   "metadata": {
    "papermill": {
     "duration": 0.009922,
     "end_time": "2022-11-15T15:55:48.589894",
     "exception": false,
     "start_time": "2022-11-15T15:55:48.579972",
     "status": "completed"
    },
    "tags": []
   },
   "source": [
    "**ML Algorithms**"
   ]
  },
  {
   "cell_type": "code",
   "execution_count": 24,
   "id": "fbce7e48",
   "metadata": {
    "execution": {
     "iopub.execute_input": "2022-11-15T15:55:48.612405Z",
     "iopub.status.busy": "2022-11-15T15:55:48.611392Z",
     "iopub.status.idle": "2022-11-15T15:55:48.747262Z",
     "shell.execute_reply": "2022-11-15T15:55:48.746100Z"
    },
    "papermill": {
     "duration": 0.149809,
     "end_time": "2022-11-15T15:55:48.749890",
     "exception": false,
     "start_time": "2022-11-15T15:55:48.600081",
     "status": "completed"
    },
    "tags": []
   },
   "outputs": [
    {
     "data": {
      "text/html": [
       "<div>\n",
       "<style scoped>\n",
       "    .dataframe tbody tr th:only-of-type {\n",
       "        vertical-align: middle;\n",
       "    }\n",
       "\n",
       "    .dataframe tbody tr th {\n",
       "        vertical-align: top;\n",
       "    }\n",
       "\n",
       "    .dataframe thead th {\n",
       "        text-align: right;\n",
       "    }\n",
       "</style>\n",
       "<table border=\"1\" class=\"dataframe\">\n",
       "  <thead>\n",
       "    <tr style=\"text-align: right;\">\n",
       "      <th></th>\n",
       "      <th>Model Name</th>\n",
       "      <th>Training accuracy</th>\n",
       "      <th>Test accuracy</th>\n",
       "    </tr>\n",
       "  </thead>\n",
       "  <tbody>\n",
       "    <tr>\n",
       "      <th>0</th>\n",
       "      <td>Logistic Regression</td>\n",
       "      <td>0.768642</td>\n",
       "      <td>0.786667</td>\n",
       "    </tr>\n",
       "    <tr>\n",
       "      <th>1</th>\n",
       "      <td>SVM</td>\n",
       "      <td>0.764818</td>\n",
       "      <td>0.782222</td>\n",
       "    </tr>\n",
       "    <tr>\n",
       "      <th>2</th>\n",
       "      <td>Decision Tree</td>\n",
       "      <td>0.889101</td>\n",
       "      <td>0.746667</td>\n",
       "    </tr>\n",
       "    <tr>\n",
       "      <th>3</th>\n",
       "      <td>KNN</td>\n",
       "      <td>0.833652</td>\n",
       "      <td>0.782222</td>\n",
       "    </tr>\n",
       "    <tr>\n",
       "      <th>4</th>\n",
       "      <td>Gradient Boosting</td>\n",
       "      <td>0.764818</td>\n",
       "      <td>0.791111</td>\n",
       "    </tr>\n",
       "  </tbody>\n",
       "</table>\n",
       "</div>"
      ],
      "text/plain": [
       "            Model Name  Training accuracy  Test accuracy\n",
       "0  Logistic Regression           0.768642       0.786667\n",
       "1                  SVM           0.764818       0.782222\n",
       "2        Decision Tree           0.889101       0.746667\n",
       "3                  KNN           0.833652       0.782222\n",
       "4    Gradient Boosting           0.764818       0.791111"
      ]
     },
     "execution_count": 24,
     "metadata": {},
     "output_type": "execute_result"
    }
   ],
   "source": [
    "models = {\n",
    "    \"Logistic Regression\": LogisticRegression(C=10),\n",
    "    \"SVM\": SVC(C=0.5),\n",
    "    \"Decision Tree\": DecisionTreeClassifier( max_depth=10),\n",
    "    \"KNN\": KNeighborsClassifier(n_neighbors=2),\n",
    "    \"Gradient Boosting\": GradientBoostingClassifier(n_estimators=100, learning_rate=0.01)\n",
    "}\n",
    "results = []\n",
    "for name, model in models.items():\n",
    "  model.fit(X_train, y_train)\n",
    "  y_train_pred = model.predict(X_train)\n",
    "  y_pred = model.predict(X_test)\n",
    "  train_acc= accuracy_score(y_train, y_train_pred)\n",
    "  test_acc= accuracy_score(y_test, y_pred)\n",
    "  results.append([name, train_acc, test_acc])\n",
    "\n",
    "df_results = pd.DataFrame(results, columns=[\"Model Name\", \"Training accuracy\", \"Test accuracy\"])\n",
    "df_results"
   ]
  },
  {
   "cell_type": "markdown",
   "id": "94bb3f3c",
   "metadata": {
    "papermill": {
     "duration": 0.00998,
     "end_time": "2022-11-15T15:55:48.770937",
     "exception": false,
     "start_time": "2022-11-15T15:55:48.760957",
     "status": "completed"
    },
    "tags": []
   },
   "source": [
    "**Stacking Method**"
   ]
  },
  {
   "cell_type": "code",
   "execution_count": 25,
   "id": "3aa5e1d6",
   "metadata": {
    "execution": {
     "iopub.execute_input": "2022-11-15T15:55:48.793876Z",
     "iopub.status.busy": "2022-11-15T15:55:48.792655Z",
     "iopub.status.idle": "2022-11-15T15:55:49.329216Z",
     "shell.execute_reply": "2022-11-15T15:55:49.327718Z"
    },
    "papermill": {
     "duration": 0.550837,
     "end_time": "2022-11-15T15:55:49.331950",
     "exception": false,
     "start_time": "2022-11-15T15:55:48.781113",
     "status": "completed"
    },
    "tags": []
   },
   "outputs": [
    {
     "name": "stdout",
     "output_type": "stream",
     "text": [
      "0.7955555555555556\n"
     ]
    }
   ],
   "source": [
    "estimators = []\n",
    "model1 = LogisticRegression()\n",
    "estimators.append(('logistic', model1))\n",
    "model2 = DecisionTreeClassifier()\n",
    "estimators.append(('dt', model2))\n",
    "model3 = SVC()\n",
    "estimators.append(('svm', model3))\n",
    "model4= KNeighborsClassifier(n_neighbors=2)\n",
    "estimators.append(('knn', model4))\n",
    "model5=  GradientBoostingClassifier(n_estimators=100, learning_rate=0.01)\n",
    "estimators.append(('gb', model5))\n",
    "# create the ensemble model\n",
    "clf = StackingClassifier(estimators=estimators, final_estimator=LogisticRegression())\n",
    "res=clf.fit(X_train, y_train).score(X_test, y_test)\n",
    "print(res)"
   ]
  },
  {
   "cell_type": "markdown",
   "id": "ac2b4627",
   "metadata": {
    "papermill": {
     "duration": 0.010876,
     "end_time": "2022-11-15T15:55:49.353486",
     "exception": false,
     "start_time": "2022-11-15T15:55:49.342610",
     "status": "completed"
    },
    "tags": []
   },
   "source": [
    "**The accuracy for the different models were seen above**"
   ]
  }
 ],
 "metadata": {
  "kernelspec": {
   "display_name": "Python 3",
   "language": "python",
   "name": "python3"
  },
  "language_info": {
   "codemirror_mode": {
    "name": "ipython",
    "version": 3
   },
   "file_extension": ".py",
   "mimetype": "text/x-python",
   "name": "python",
   "nbconvert_exporter": "python",
   "pygments_lexer": "ipython3",
   "version": "3.7.12"
  },
  "papermill": {
   "default_parameters": {},
   "duration": 14.263382,
   "end_time": "2022-11-15T15:55:50.088211",
   "environment_variables": {},
   "exception": null,
   "input_path": "__notebook__.ipynb",
   "output_path": "__notebook__.ipynb",
   "parameters": {},
   "start_time": "2022-11-15T15:55:35.824829",
   "version": "2.3.4"
  }
 },
 "nbformat": 4,
 "nbformat_minor": 5
}
