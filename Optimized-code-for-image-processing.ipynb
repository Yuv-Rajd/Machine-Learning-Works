{
 "cells": [
  {
   "cell_type": "code",
   "execution_count": 1,
   "id": "feb8559b",
   "metadata": {},
   "outputs": [],
   "source": [
    "from keras.layers import Conv2D,Flatten,Dense,MaxPooling2D\n",
    "from os import listdir\n",
    "from keras.utils import img_to_array\n",
    "import cv2\n",
    "from sklearn.model_selection import train_test_split\n",
    "import numpy as np\n",
    "\n",
    "# set random seed\n",
    "np.random.seed(42)\n",
    "\n",
    "# root folder\n",
    "root_dir=\"data/brain-tumor-datasets/\""
   ]
  },
  {
   "cell_type": "code",
   "execution_count": 2,
   "id": "09f691c3",
   "metadata": {},
   "outputs": [],
   "source": [
    "def convert_img_to_tensor(fpath):\n",
    "    #read image\n",
    "    img = cv2.imread(fpath)\n",
    "        img = cv2.cvtColor(img,cv2.COLOR_BGR2GRAY)\n",
    "\n",
    "    img = cv2.resize(img,(256,256))\n",
    "    \n",
    "    #converts image to array\n",
    "    res = img_to_array(img)\n",
    "    \n",
    "    return res\n",
    "\n",
    "def get_img_data_and_label(root_dir):\n",
    "    dire=listdir(root_dir)\n",
    "    \n",
    "    image_dataset=[]\n",
    "    image_label=[]\n",
    "    classes=[]\n",
    "    \n",
    "    binary_label=[]\n",
    "    i=0\n",
    "    \n",
    "    for subdir in dire:\n",
    "        binary_label.append(i)\n",
    "        classes.append(subdir)\n",
    "        i+=1\n",
    "        \n",
    "    index=0\n",
    "    \n",
    "    for subdir in dire:\n",
    "        skin_img_list=listdir(f\"{root_dir}/{subdir}\")\n",
    "        \n",
    "        for imgfile in skin_img_list:\n",
    "            \n",
    "            filepath=f\"{root_dir}/{subdir}/{imgfile}\"\n",
    "            #convert image to array\n",
    "            res=convert_img_to_tensor(filepath)\n",
    "            #add data to dataset list\n",
    "            image_dataset.append(res)\n",
    "            image_label.append(binary_label[index])\n",
    "            \n",
    "        index+=1\n",
    "        \n",
    "    return image_dataset,image_label,len(binary_label),classes"
   ]
  },
  {
   "cell_type": "code",
   "execution_count": 3,
   "id": "0b6a43e6",
   "metadata": {},
   "outputs": [],
   "source": [
    "\n",
    "image_dataset,image_labels,NoOfOutputLayer,classes = get_img_data_and_label(root_dir)"
   ]
  },
  {
   "cell_type": "code",
   "execution_count": 4,
   "id": "a7be723e",
   "metadata": {},
   "outputs": [
    {
     "name": "stdout",
     "output_type": "stream",
     "text": [
      "2\n",
      "3000\n",
      "3000\n",
      "(256, 256, 3)\n",
      "['no', 'yes']\n"
     ]
    }
   ],
   "source": [
    "print(NoOfOutputLayer)\n",
    "print(len(image_labels))\n",
    "print(len(image_dataset))\n",
    "print(image_dataset[0].shape)\n",
    "print(classes)"
   ]
  },
  {
   "cell_type": "code",
   "execution_count": 11,
   "id": "551c4bc4",
   "metadata": {},
   "outputs": [
    {
     "name": "stdout",
     "output_type": "stream",
     "text": [
      "(2400, 256, 256, 3)\n",
      "(2400, 2)\n",
      "(600, 256, 256, 3)\n",
      "(600, 2)\n"
     ]
    }
   ],
   "source": [
    "xtrain,xtest,ytrain,ytest=train_test_split(image_dataset,image_labels,test_size=0.2,random_state=100)\n",
    "\n",
    "from keras.utils import to_categorical\n",
    "ytrain=to_categorical(ytrain)\n",
    "ytest=to_categorical(ytest)\n",
    "\n",
    "\n",
    "\n",
    "xtrain = np.array(xtrain, dtype=np.float16)/ 255.0\n",
    "xtrain = xtrain.reshape(-1,256,256,3)\n",
    "xtest = np.array(xtest, dtype=np.float16)/ 255.0\n",
    "xtest = xtest.reshape(-1,256,256,3)\n",
    "\n",
    "\n",
    "print(xtrain.shape)\n",
    "print(ytrain.shape)\n",
    "print(xtest.shape)\n",
    "print(ytest.shape)\n"
   ]
  },
  {
   "cell_type": "code",
   "execution_count": null,
   "id": "800cd6b0",
   "metadata": {},
   "outputs": [],
   "source": []
  },
  {
   "cell_type": "code",
   "execution_count": 13,
   "id": "d97a5ca2",
   "metadata": {},
   "outputs": [],
   "source": [
    "from keras.models import Sequential\n",
    "\n",
    "model = Sequential()\n",
    "\n",
    "model.add(Conv2D(32,(3,3), activation = 'relu' , input_shape = (256,256,3)))\n",
    "model.add(MaxPooling2D((2,2)))\n",
    "\n",
    "model.add(Conv2D(32,(3,3), activation = 'relu'))\n",
    "model.add(MaxPooling2D((2,2)))\n",
    "\n",
    "model.add(Flatten())\n",
    "model.add(Dense(64, activation = 'relu'))\n",
    "model.add(Dense(NoOfOutputLayer, activation = 'sigmoid'))\n",
    "\n",
    "model.compile(loss = 'binary_crossentropy', optimizer = 'adam' , metrics = ['accuracy'])"
   ]
  },
  {
   "cell_type": "code",
   "execution_count": 18,
   "id": "9dec8de0",
   "metadata": {},
   "outputs": [
    {
     "ename": "MemoryError",
     "evalue": "Unable to allocate 1.76 GiB for an array with shape (2400, 256, 256, 3) and data type float32",
     "output_type": "error",
     "traceback": [
      "\u001b[1;31m---------------------------------------------------------------------------\u001b[0m",
      "\u001b[1;31mMemoryError\u001b[0m                               Traceback (most recent call last)",
      "Input \u001b[1;32mIn [18]\u001b[0m, in \u001b[0;36m<cell line: 2>\u001b[1;34m()\u001b[0m\n\u001b[0;32m      1\u001b[0m \u001b[38;5;66;03m# model.fit(xtrain,ytrain,epochs=5,batch_size=32)\u001b[39;00m\n\u001b[1;32m----> 2\u001b[0m history \u001b[38;5;241m=\u001b[39m \u001b[43mmodel\u001b[49m\u001b[38;5;241;43m.\u001b[39;49m\u001b[43mfit\u001b[49m\u001b[43m(\u001b[49m\u001b[43mxtrain\u001b[49m\u001b[43m,\u001b[49m\u001b[43m \u001b[49m\u001b[43mytrain\u001b[49m\u001b[43m,\u001b[49m\u001b[43m \u001b[49m\u001b[43mbatch_size\u001b[49m\u001b[38;5;241;43m=\u001b[39;49m\u001b[38;5;241;43m16\u001b[39;49m\u001b[43m,\u001b[49m\u001b[43m \u001b[49m\u001b[43mepochs\u001b[49m\u001b[38;5;241;43m=\u001b[39;49m\u001b[38;5;241;43m5\u001b[39;49m\u001b[43m)\u001b[49m\n\u001b[0;32m      4\u001b[0m plt\u001b[38;5;241m.\u001b[39mplot(history\u001b[38;5;241m.\u001b[39mhistory[\u001b[38;5;124m'\u001b[39m\u001b[38;5;124maccuracy\u001b[39m\u001b[38;5;124m'\u001b[39m])\n\u001b[0;32m      5\u001b[0m plt\u001b[38;5;241m.\u001b[39mplot(history\u001b[38;5;241m.\u001b[39mhistory[\u001b[38;5;124m'\u001b[39m\u001b[38;5;124mval_accuracy\u001b[39m\u001b[38;5;124m'\u001b[39m])\n",
      "File \u001b[1;32m~\\OneDrive\\Desktop\\ML\\ML1\\env\\lib\\site-packages\\keras\\utils\\traceback_utils.py:67\u001b[0m, in \u001b[0;36mfilter_traceback.<locals>.error_handler\u001b[1;34m(*args, **kwargs)\u001b[0m\n\u001b[0;32m     65\u001b[0m \u001b[38;5;28;01mexcept\u001b[39;00m \u001b[38;5;167;01mException\u001b[39;00m \u001b[38;5;28;01mas\u001b[39;00m e:  \u001b[38;5;66;03m# pylint: disable=broad-except\u001b[39;00m\n\u001b[0;32m     66\u001b[0m   filtered_tb \u001b[38;5;241m=\u001b[39m _process_traceback_frames(e\u001b[38;5;241m.\u001b[39m__traceback__)\n\u001b[1;32m---> 67\u001b[0m   \u001b[38;5;28;01mraise\u001b[39;00m e\u001b[38;5;241m.\u001b[39mwith_traceback(filtered_tb) \u001b[38;5;28;01mfrom\u001b[39;00m \u001b[38;5;28mNone\u001b[39m\n\u001b[0;32m     68\u001b[0m \u001b[38;5;28;01mfinally\u001b[39;00m:\n\u001b[0;32m     69\u001b[0m   \u001b[38;5;28;01mdel\u001b[39;00m filtered_tb\n",
      "File \u001b[1;32m~\\OneDrive\\Desktop\\ML\\ML1\\env\\lib\\site-packages\\tensorflow\\python\\framework\\constant_op.py:102\u001b[0m, in \u001b[0;36mconvert_to_eager_tensor\u001b[1;34m(value, ctx, dtype)\u001b[0m\n\u001b[0;32m    100\u001b[0m     dtype \u001b[38;5;241m=\u001b[39m dtypes\u001b[38;5;241m.\u001b[39mas_dtype(dtype)\u001b[38;5;241m.\u001b[39mas_datatype_enum\n\u001b[0;32m    101\u001b[0m ctx\u001b[38;5;241m.\u001b[39mensure_initialized()\n\u001b[1;32m--> 102\u001b[0m \u001b[38;5;28;01mreturn\u001b[39;00m \u001b[43mops\u001b[49m\u001b[38;5;241;43m.\u001b[39;49m\u001b[43mEagerTensor\u001b[49m\u001b[43m(\u001b[49m\u001b[43mvalue\u001b[49m\u001b[43m,\u001b[49m\u001b[43m \u001b[49m\u001b[43mctx\u001b[49m\u001b[38;5;241;43m.\u001b[39;49m\u001b[43mdevice_name\u001b[49m\u001b[43m,\u001b[49m\u001b[43m \u001b[49m\u001b[43mdtype\u001b[49m\u001b[43m)\u001b[49m\n",
      "\u001b[1;31mMemoryError\u001b[0m: Unable to allocate 1.76 GiB for an array with shape (2400, 256, 256, 3) and data type float32"
     ]
    }
   ],
   "source": [
    "# model.fit(xtrain,ytrain,epochs=5,batch_size=32)\n",
    "history = model.fit(xtrain, ytrain, batch_size=16, epochs=5)\n",
    "\n",
    "plt.plot(history.history['accuracy'])\n",
    "plt.plot(history.history['val_accuracy'])\n",
    "plt.title('Model Accuracy')\n",
    "plt.xlabel('Epoch')\n",
    "plt.ylabel('Accuracy')\n",
    "plt.legend(['train', 'test'], loc='upper left')\n",
    "plt.show()"
   ]
  },
  {
   "cell_type": "code",
   "execution_count": 22,
   "id": "5b71a100",
   "metadata": {},
   "outputs": [
    {
     "name": "stdout",
     "output_type": "stream",
     "text": [
      "Model: \"sequential_1\"\n",
      "_________________________________________________________________\n",
      " Layer (type)                Output Shape              Param #   \n",
      "=================================================================\n",
      " conv2d_2 (Conv2D)           (None, 254, 254, 32)      896       \n",
      "                                                                 \n",
      " max_pooling2d_2 (MaxPooling  (None, 127, 127, 32)     0         \n",
      " 2D)                                                             \n",
      "                                                                 \n",
      " conv2d_3 (Conv2D)           (None, 125, 125, 32)      9248      \n",
      "                                                                 \n",
      " max_pooling2d_3 (MaxPooling  (None, 62, 62, 32)       0         \n",
      " 2D)                                                             \n",
      "                                                                 \n",
      " flatten_1 (Flatten)         (None, 123008)            0         \n",
      "                                                                 \n",
      " dense_2 (Dense)             (None, 64)                7872576   \n",
      "                                                                 \n",
      " dense_3 (Dense)             (None, 2)                 130       \n",
      "                                                                 \n",
      "=================================================================\n",
      "Total params: 7,882,850\n",
      "Trainable params: 7,882,850\n",
      "Non-trainable params: 0\n",
      "_________________________________________________________________\n"
     ]
    }
   ],
   "source": [
    "model.summary()"
   ]
  },
  {
   "cell_type": "markdown",
   "id": "75baf422",
   "metadata": {},
   "source": [
    "## save the model"
   ]
  },
  {
   "cell_type": "code",
   "execution_count": 23,
   "id": "a10ceac9",
   "metadata": {},
   "outputs": [],
   "source": [
    "model.save('brain_tumor_model.h5')"
   ]
  },
  {
   "cell_type": "markdown",
   "id": "b279b5ef",
   "metadata": {},
   "source": [
    "## Testing input images"
   ]
  },
  {
   "cell_type": "code",
   "execution_count": 24,
   "id": "9faf7f11",
   "metadata": {},
   "outputs": [],
   "source": [
    "import tensorflow as tf\n",
    "from keras.utils import load_img\n",
    "from keras.models import load_model\n",
    "from keras.utils import img_to_array\n",
    "from keras.applications.vgg16 import preprocess_input\n",
    "import numpy as np\n",
    "import cv2"
   ]
  },
  {
   "cell_type": "markdown",
   "id": "289312a0",
   "metadata": {},
   "source": [
    "### load the saved model"
   ]
  },
  {
   "cell_type": "code",
   "execution_count": 25,
   "id": "203b1870",
   "metadata": {},
   "outputs": [],
   "source": [
    "model = load_model('brain_tumor_model.h5')"
   ]
  },
  {
   "cell_type": "code",
   "execution_count": 26,
   "id": "76bea11b",
   "metadata": {},
   "outputs": [],
   "source": [
    "# for check the image |Testng\n",
    "\n",
    "def check(res):\n",
    "        p1 = classes\n",
    "        path = p1\n",
    "        pred = model.predict(res)\n",
    "        res = np.argmax(pred)\n",
    "        res = path[res]\n",
    "        return (res)\n",
    "\n",
    "\n",
    "def convert_img_to_tensor2(fpath):\n",
    "    img = cv2.imread(fpath)\n",
    "    img = cv2.resize(img, (256, 256))\n",
    "    res = img_to_array(img)\n",
    "    res = np.array(res, dtype=np.float16) / 255.0\n",
    "    res = res.reshape(-1, 256, 256, 3)\n",
    "    res = res.reshape(1, 256, 256, 3)\n",
    "    return res"
   ]
  },
  {
   "cell_type": "code",
   "execution_count": 28,
   "id": "5f8327aa",
   "metadata": {},
   "outputs": [
    {
     "name": "stdout",
     "output_type": "stream",
     "text": [
      "1/1 [==============================] - 0s 52ms/step\n"
     ]
    },
    {
     "data": {
      "text/plain": [
       "'yes'"
      ]
     },
     "execution_count": 28,
     "metadata": {},
     "output_type": "execute_result"
    }
   ],
   "source": [
    "fpath=\"data/brain-tumor-datasets/yes/y100.jpg\"\n",
    "\n",
    "res = convert_img_to_tensor2(fpath)\n",
    "msg=check(res)\n",
    "msg"
   ]
  },
  {
   "cell_type": "code",
   "execution_count": 1,
   "id": "865f9f7d",
   "metadata": {},
   "outputs": [
    {
     "ename": "NameError",
     "evalue": "name 'model' is not defined",
     "output_type": "error",
     "traceback": [
      "\u001b[1;31m---------------------------------------------------------------------------\u001b[0m",
      "\u001b[1;31mNameError\u001b[0m                                 Traceback (most recent call last)",
      "Input \u001b[1;32mIn [1]\u001b[0m, in \u001b[0;36m<cell line: 1>\u001b[1;34m()\u001b[0m\n\u001b[1;32m----> 1\u001b[0m loss, accuracy \u001b[38;5;241m=\u001b[39m \u001b[43mmodel\u001b[49m\u001b[38;5;241m.\u001b[39mevaluate(x_test, y_test, verbose\u001b[38;5;241m=\u001b[39m\u001b[38;5;241m0\u001b[39m)\n\u001b[0;32m      2\u001b[0m \u001b[38;5;28mprint\u001b[39m(\u001b[38;5;124m'\u001b[39m\u001b[38;5;124mTest loss:\u001b[39m\u001b[38;5;124m'\u001b[39m, loss)\n\u001b[0;32m      3\u001b[0m \u001b[38;5;28mprint\u001b[39m(\u001b[38;5;124m'\u001b[39m\u001b[38;5;124mTest accuracy:\u001b[39m\u001b[38;5;124m'\u001b[39m, accuracy)\n",
      "\u001b[1;31mNameError\u001b[0m: name 'model' is not defined"
     ]
    }
   ],
   "source": [
    "loss, accuracy = model.evaluate(x_test, y_test, verbose=0)\n",
    "print('Test loss:', loss)\n",
    "print('Test accuracy:', accuracy)"
   ]
  },
  {
   "cell_type": "code",
   "execution_count": null,
   "id": "f80a2b8e",
   "metadata": {},
   "outputs": [],
   "source": []
  }
 ],
 "metadata": {
  "kernelspec": {
   "display_name": "Python 3 (ipykernel)",
   "language": "python",
   "name": "python3"
  },
  "language_info": {
   "codemirror_mode": {
    "name": "ipython",
    "version": 3
   },
   "file_extension": ".py",
   "mimetype": "text/x-python",
   "name": "python",
   "nbconvert_exporter": "python",
   "pygments_lexer": "ipython3",
   "version": "3.10.4"
  }
 },
 "nbformat": 4,
 "nbformat_minor": 5
}
