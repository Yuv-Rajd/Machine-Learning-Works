{
 "cells": [
  {
   "cell_type": "code",
   "execution_count": 1,
   "id": "1af880c4",
   "metadata": {},
   "outputs": [],
   "source": [
    "import pandas as pd"
   ]
  },
  {
   "cell_type": "code",
   "execution_count": 2,
   "id": "e0cb4663",
   "metadata": {},
   "outputs": [],
   "source": [
    "from sklearn.tree import DecisionTreeClassifier\n",
    "from sklearn.preprocessing import LabelEncoder\n",
    "from sklearn.model_selection import train_test_split"
   ]
  },
  {
   "cell_type": "code",
   "execution_count": 4,
   "id": "b6917bdf",
   "metadata": {},
   "outputs": [],
   "source": [
    "data = {\n",
    "    \"GCPA\":['G9','G8','G9','18','G8','18','G9','G8','G8','G8'],\n",
    "    \"INTER\":['Y','N','N','N','Y','Y','Y','N','Y','Y'],\n",
    "    \"PK\":['+++','+','==','==','+','+','+','+++','+','=='],\n",
    "    \"CS\":['G','M','P','G','M','M','P','G','G','G'],\n",
    "    \"JOB\":['Y','Y','N','N','Y','Y','N','Y','Y']\n",
    "}"
   ]
  },
  {
   "cell_type": "code",
   "execution_count": null,
   "id": "aece9663",
   "metadata": {},
   "outputs": [],
   "source": [
    "for k in d"
   ]
  },
  {
   "cell_type": "code",
   "execution_count": 5,
   "id": "861f8502",
   "metadata": {},
   "outputs": [],
   "source": [
    "table = pd.DataFrame(data,index=[1,2,3,4,5,6,7,8,9,10],columns=[\"CGPA\",\"INTER\",\"PK\",\"CS\",\"JPB\"])"
   ]
  },
  {
   "cell_type": "code",
   "execution_count": null,
   "id": "6faf3120",
   "metadata": {},
   "outputs": [],
   "source": []
  }
 ],
 "metadata": {
  "kernelspec": {
   "display_name": "Python 3 (ipykernel)",
   "language": "python",
   "name": "python3"
  },
  "language_info": {
   "codemirror_mode": {
    "name": "ipython",
    "version": 3
   },
   "file_extension": ".py",
   "mimetype": "text/x-python",
   "name": "python",
   "nbconvert_exporter": "python",
   "pygments_lexer": "ipython3",
   "version": "3.10.4"
  }
 },
 "nbformat": 4,
 "nbformat_minor": 5
}
