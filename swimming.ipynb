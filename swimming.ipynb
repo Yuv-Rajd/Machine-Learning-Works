{
 "cells": [
  {
   "cell_type": "code",
   "execution_count": 1,
   "id": "41927e64",
   "metadata": {},
   "outputs": [],
   "source": [
    "import csv"
   ]
  },
  {
   "cell_type": "code",
   "execution_count": 2,
   "id": "67801aad",
   "metadata": {},
   "outputs": [],
   "source": [
    "def loadfiles(filename):\n",
    "    lines = csv.reader(open(filename,\"rt\"))\n",
    "    dataset = list(lines)\n",
    "    return dataset\n",
    "\n"
   ]
  },
  {
   "cell_type": "code",
   "execution_count": 3,
   "id": "91411ab9",
   "metadata": {},
   "outputs": [],
   "source": [
    "dataset = loadfiles(\"data/swimmimg.csv\")"
   ]
  },
  {
   "cell_type": "code",
   "execution_count": 4,
   "id": "d7771158",
   "metadata": {},
   "outputs": [
    {
     "data": {
      "text/plain": [
       "['sky', 'temp', 'hum', 'wind', 'water', 'forecast']"
      ]
     },
     "execution_count": 4,
     "metadata": {},
     "output_type": "execute_result"
    }
   ],
   "source": [
    "dataset[0][:-1]"
   ]
  },
  {
   "cell_type": "code",
   "execution_count": 5,
   "id": "6d1e8345",
   "metadata": {},
   "outputs": [],
   "source": [
    "attributes = dataset[0][:-1]\n",
    "specific = dataset[1][:-1]\n",
    "general = [['?' for i in range(len(specific))] for j in range(len(specific))]"
   ]
  },
  {
   "cell_type": "code",
   "execution_count": 6,
   "id": "31524dbf",
   "metadata": {},
   "outputs": [
    {
     "data": {
      "text/plain": [
       "[['sunny', 'warm', 'normal', 'slow', 'warm', 'same', 'yes'],\n",
       " ['sunny', 'warm', 'hot', 'slow', 'warm', 'same', 'yes'],\n",
       " ['rainy', 'cold', 'hot', 'slow', 'warm', 'change', 'no'],\n",
       " ['rainy', 'warm', 'hot', 'slow', 'cold', 'change', 'yes']]"
      ]
     },
     "execution_count": 6,
     "metadata": {},
     "output_type": "execute_result"
    }
   ],
   "source": [
    "dataset=dataset[1:]\n",
    "dataset"
   ]
  },
  {
   "cell_type": "code",
   "execution_count": 7,
   "id": "1733ade0",
   "metadata": {},
   "outputs": [
    {
     "data": {
      "text/plain": [
       "[['?', '?', '?', '?', '?', '?'],\n",
       " ['?', '?', '?', '?', '?', '?'],\n",
       " ['?', '?', '?', '?', '?', '?'],\n",
       " ['?', '?', '?', '?', '?', '?'],\n",
       " ['?', '?', '?', '?', '?', '?'],\n",
       " ['?', '?', '?', '?', '?', '?']]"
      ]
     },
     "execution_count": 7,
     "metadata": {},
     "output_type": "execute_result"
    }
   ],
   "source": [
    "general"
   ]
  },
  {
   "cell_type": "code",
   "execution_count": 8,
   "id": "7a955397",
   "metadata": {},
   "outputs": [
    {
     "name": "stdout",
     "output_type": "stream",
     "text": [
      "yes==yes\n",
      "step no :1\n",
      "data :['sunny', 'warm', 'normal', 'slow', 'warm', 'same', 'yes']\n",
      "specific:['sunny', 'warm', 'normal', 'slow', 'warm', 'same']\n",
      "general\n",
      "['?', '?', '?', '?', '?', '?']\n",
      "['?', '?', '?', '?', '?', '?']\n",
      "['?', '?', '?', '?', '?', '?']\n",
      "['?', '?', '?', '?', '?', '?']\n",
      "['?', '?', '?', '?', '?', '?']\n",
      "['?', '?', '?', '?', '?', '?']\n",
      "-------------------------------------------------------------------------\n",
      "previous specific:['sunny', 'warm', 'normal', 'slow', 'warm', 'same']\n",
      "yes==yes\n",
      "step no :2\n",
      "data :['sunny', 'warm', 'hot', 'slow', 'warm', 'same', 'yes']\n",
      "specific:['sunny', 'warm', '?', 'slow', 'warm', 'same']\n",
      "general\n",
      "['?', '?', '?', '?', '?', '?']\n",
      "['?', '?', '?', '?', '?', '?']\n",
      "['?', '?', '?', '?', '?', '?']\n",
      "['?', '?', '?', '?', '?', '?']\n",
      "['?', '?', '?', '?', '?', '?']\n",
      "['?', '?', '?', '?', '?', '?']\n",
      "-------------------------------------------------------------------------\n",
      "previous specific:['sunny', 'warm', '?', 'slow', 'warm', 'same']\n",
      "no==no\n",
      "step no :3\n",
      "data :['rainy', 'cold', 'hot', 'slow', 'warm', 'change', 'no']\n",
      "specific:['sunny', 'warm', '?', 'slow', 'warm', 'same']\n",
      "general\n",
      "['sunny', '?', '?', '?', '?', '?']\n",
      "['?', 'warm', '?', '?', '?', '?']\n",
      "['?', '?', '?', '?', '?', '?']\n",
      "['?', '?', '?', '?', '?', '?']\n",
      "['?', '?', '?', '?', '?', '?']\n",
      "['?', '?', '?', '?', '?', 'same']\n",
      "-------------------------------------------------------------------------\n",
      "previous specific:['sunny', 'warm', '?', 'slow', 'warm', 'same']\n",
      "yes==yes\n",
      "step no :4\n",
      "data :['rainy', 'warm', 'hot', 'slow', 'cold', 'change', 'yes']\n",
      "specific:['?', 'warm', '?', 'slow', '?', '?']\n",
      "general\n",
      "['?', '?', '?', '?', '?', '?']\n",
      "['?', 'warm', '?', '?', '?', '?']\n",
      "['?', '?', '?', '?', '?', '?']\n",
      "['?', '?', '?', '?', '?', '?']\n",
      "['?', '?', '?', '?', '?', '?']\n",
      "['?', '?', '?', '?', '?', '?']\n",
      "-------------------------------------------------------------------------\n",
      "previous specific:['?', 'warm', '?', 'slow', '?', '?']\n"
     ]
    }
   ],
   "source": [
    "step = 1\n",
    "for data in dataset:\n",
    "    \n",
    "    if data[-1] == \"yes\":\n",
    "        print(f\"{data[-1]}==yes\")\n",
    "        for j in range(len(specific)):\n",
    "            if data[j] != specific[j]:\n",
    "                specific[j] =\"?\"\n",
    "                general[j][j]=\"?\"\n",
    "                \n",
    "    elif data[-1] == \"no\":\n",
    "        print(f\"{data[-1]}==no\")\n",
    "        for j in range(len(specific)):\n",
    "            if data[j] != specific[j]:\n",
    "                general[j][j] = specific[j]\n",
    "            else:\n",
    "                general[j][j]= \"?\"\n",
    "    \n",
    "    print(f\"step no :{step}\")\n",
    "    step+=1\n",
    "    print(f\"data :{data}\")\n",
    "    print(f\"specific:{specific}\")\n",
    "    print(\"general\")\n",
    "    for b in general:\n",
    "        print(b)\n",
    "    print(\"-------------------------------------------------------------------------\")\n",
    "    print(f\"previous specific:{specific}\")"
   ]
  },
  {
   "cell_type": "code",
   "execution_count": 9,
   "id": "ff7df6b2",
   "metadata": {},
   "outputs": [],
   "source": [
    "gen_hypothesis = []\n",
    "for hypothesis in general:\n",
    "    for val in hypothesis:\n",
    "        if val != '?':\n",
    "            gen_hypothesis.append(hypothesis)\n",
    "            break"
   ]
  },
  {
   "cell_type": "code",
   "execution_count": 10,
   "id": "1e1bf8d5",
   "metadata": {},
   "outputs": [
    {
     "name": "stdout",
     "output_type": "stream",
     "text": [
      "\n",
      "Final Specific hypothesis:\n",
      " ['?', 'warm', '?', 'slow', '?', '?']\n",
      "\n",
      "Final General hypothesis:\n",
      " [['?', 'warm', '?', '?', '?', '?']]\n"
     ]
    }
   ],
   "source": [
    "print(\"\\nFinal Specific hypothesis:\\n\", specific)\n",
    "print(\"\\nFinal General hypothesis:\\n\", gen_hypothesis)"
   ]
  },
  {
   "cell_type": "code",
   "execution_count": 11,
   "id": "7084e985",
   "metadata": {},
   "outputs": [
    {
     "data": {
      "text/plain": [
       "[['?', 'warm', '?', 'slow', '?', '?'], ['?', 'warm', '?', '?', '?', '?']]"
      ]
     },
     "execution_count": 11,
     "metadata": {},
     "output_type": "execute_result"
    }
   ],
   "source": [
    "final_hypothesis = []\n",
    "final_hypothesis.append(specific)\n",
    "for h in gen_hypothesis:\n",
    "    final_hypothesis.append(h)\n",
    "    new_h = h.copy();\n",
    "    for i in range(len(specific)):\n",
    "        if new_h[i] != specific[i]:\n",
    "            new_h[i] = specific[i]\n",
    "            if new_h not in final_hypothesis:\n",
    "                final_hypothesis.append(new_h.copy())\n",
    "            new_h[i] = '?'\n",
    "final_hypothesis"
   ]
  },
  {
   "cell_type": "code",
   "execution_count": 20,
   "id": "9056266e",
   "metadata": {},
   "outputs": [
    {
     "name": "stdout",
     "output_type": "stream",
     "text": [
      "Enter value for sky : \n",
      "Test data is ['']\n",
      "Enter value for temp : \n",
      "Test data is ['', '']\n",
      "Enter value for hum : \n",
      "Test data is ['', '', '']\n",
      "Enter value for wind : \n",
      "Test data is ['', '', '', '']\n",
      "Enter value for water : \n",
      "Test data is ['', '', '', '', '']\n",
      "Enter value for forecast : \n",
      "Test data is ['', '', '', '', '', '']\n"
     ]
    }
   ],
   "source": [
    "test_data = []\n",
    "for i in range(len(specific)):\n",
    "    print(\"Enter value for\",attributes[i],end=\" : \")\n",
    "    value = input()\n",
    "    test_data.append(value)\n",
    "    print(\"Test data is\", test_data)"
   ]
  },
  {
   "cell_type": "code",
   "execution_count": 23,
   "id": "b222ab7d",
   "metadata": {},
   "outputs": [],
   "source": [
    "positive_count = 0\n",
    "negative_count = 0\n",
    "for hypothesis in final_hypothesis:\n",
    "    isPositive = True\n",
    "    for i in range(len(hypothesis)):\n",
    "        if hypothesis[i] == test_data[i] or hypothesis[i] == '?':\n",
    "            continue\n",
    "        isPositive = False\n",
    "        break\n",
    "        if isPositive:\n",
    "            positive_count += 1\n",
    "        else:\n",
    "            negative_count += 1"
   ]
  },
  {
   "cell_type": "code",
   "execution_count": 24,
   "id": "fd354fd9",
   "metadata": {},
   "outputs": [
    {
     "name": "stdout",
     "output_type": "stream",
     "text": [
      "positive = 0\n",
      "negative = 0\n",
      "Yes, enjoys swimming\n"
     ]
    }
   ],
   "source": [
    "print(\"positive =\",positive_count)\n",
    "print(\"negative =\",negative_count)\n",
    "if positive_count >= negative_count:\n",
    "    print(\"Yes, enjoys swimming\")\n",
    "else:\n",
    "    print(\"No, does not enjoys swimming\")"
   ]
  },
  {
   "cell_type": "code",
   "execution_count": null,
   "id": "be844655",
   "metadata": {},
   "outputs": [],
   "source": []
  },
  {
   "cell_type": "code",
   "execution_count": null,
   "id": "ed60939c",
   "metadata": {},
   "outputs": [],
   "source": []
  }
 ],
 "metadata": {
  "kernelspec": {
   "display_name": "Python 3 (ipykernel)",
   "language": "python",
   "name": "python3"
  },
  "language_info": {
   "codemirror_mode": {
    "name": "ipython",
    "version": 3
   },
   "file_extension": ".py",
   "mimetype": "text/x-python",
   "name": "python",
   "nbconvert_exporter": "python",
   "pygments_lexer": "ipython3",
   "version": "3.10.4"
  }
 },
 "nbformat": 4,
 "nbformat_minor": 5
}
