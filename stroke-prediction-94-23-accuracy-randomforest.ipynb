{
 "cells": [
  {
   "cell_type": "markdown",
   "id": "76072cf7",
   "metadata": {
    "papermill": {
     "duration": 0.010266,
     "end_time": "2022-10-19T12:33:24.650007",
     "exception": false,
     "start_time": "2022-10-19T12:33:24.639741",
     "status": "completed"
    },
    "tags": []
   },
   "source": [
    "So firstly let's discuss what is Stroke?\n",
    "*Stroke is a medical condition in which there is a disruption in the blood supply to the brain. It could Either be ischemic, Transient Ischemic or haemorrhagic. **Ischemic stroke** implies to the type where either thrombus (blood clot) forms and impeded the blood flow or an embolus (distant blood clot which detaches from it's place of origin and travels elsewhere) gets stuck in any artery in the brain. A **Transient ischemic attack (TIA)** is a stroke that lasts only a few minutes. It happens when the blood supply to part of the brain is briefly blocked. Symptoms of a TIA are like other stroke symptoms, but do not last as long. They happen suddenly, and include: Numbness or weakness, especially on one side of the body. Where as **Haemorrhagic stroke** implies to the type where blood vessel ruptures in the brain. Both ischemic and haemorraghic types are dangerous but haemorrhagic stroke proves fatal mostly*\n",
    "so enough of the medical thing, let's jump into the data analysis and model prediction.\n",
    "\n",
    "\n",
    "Attribute Information\n",
    "1) id: unique identifier\n",
    "\n",
    "2) gender: \"Male\", \"Female\" or \"Other\"\n",
    "\n",
    "3) age: age of the patient\n",
    "\n",
    "4) hypertension: 0 if the patient doesn't have hypertension, 1 if the patient has hypertension\n",
    "\n",
    "5) heart_disease: 0 if the patient doesn't have any heart diseases, 1 if the patient has a heart disease\n",
    "\n",
    "6) ever_married: \"No\" or \"Yes\"\n",
    "\n",
    "7) work_type: \"children\", \"Govt_jov\", \"Never_worked\", \"Private\" or \"Self-employed\"\n",
    "\n",
    "8) Residence_type: \"Rural\" or \"Urban\"\n",
    "\n",
    "9) avg_glucose_level: average glucose level in blood\n",
    "\n",
    "10) bmi: body mass index\n",
    "\n",
    "11) smoking_status: \"formerly smoked\", \"never smoked\", \"smokes\" or \"Unknown\"*\n",
    "\n",
    "12) stroke: 1 if the patient had a stroke or 0 if not\n",
    "\n",
    "*Note: \"Unknown\" in smoking_status means that the information is unavailable for this patient"
   ]
  },
  {
   "cell_type": "code",
   "execution_count": 12,
   "id": "f627f74e",
   "metadata": {
    "execution": {
     "iopub.execute_input": "2022-10-19T12:33:24.668893Z",
     "iopub.status.busy": "2022-10-19T12:33:24.668431Z",
     "iopub.status.idle": "2022-10-19T12:33:25.764954Z",
     "shell.execute_reply": "2022-10-19T12:33:25.763728Z"
    },
    "papermill": {
     "duration": 1.109617,
     "end_time": "2022-10-19T12:33:25.768090",
     "exception": false,
     "start_time": "2022-10-19T12:33:24.658473",
     "status": "completed"
    },
    "tags": []
   },
   "outputs": [],
   "source": [
    "import numpy as np\n",
    "import pandas as pd\n",
    "import matplotlib.pyplot as plt\n",
    "import seaborn as sns"
   ]
  },
  {
   "cell_type": "markdown",
   "id": "5ee9a16a",
   "metadata": {
    "papermill": {
     "duration": 0.0081,
     "end_time": "2022-10-19T12:33:25.784675",
     "exception": false,
     "start_time": "2022-10-19T12:33:25.776575",
     "status": "completed"
    },
    "tags": []
   },
   "source": [
    "let's import the libraries first. NumPy for mathematical functions, linear algebra and working with arrays.\n",
    "Pandas for data manipulation and analysis. Matplotlib and Seaborn for data visulaisation"
   ]
  },
  {
   "cell_type": "code",
   "execution_count": 13,
   "id": "618bf8d2",
   "metadata": {
    "execution": {
     "iopub.execute_input": "2022-10-19T12:33:25.803492Z",
     "iopub.status.busy": "2022-10-19T12:33:25.802817Z",
     "iopub.status.idle": "2022-10-19T12:33:25.850317Z",
     "shell.execute_reply": "2022-10-19T12:33:25.849308Z"
    },
    "papermill": {
     "duration": 0.059815,
     "end_time": "2022-10-19T12:33:25.852905",
     "exception": false,
     "start_time": "2022-10-19T12:33:25.793090",
     "status": "completed"
    },
    "tags": []
   },
   "outputs": [],
   "source": [
    "dataframe=pd.read_csv('data/healthcare-dataset-stroke-data.csv')\n",
    "dataframe=dataframe.drop('id', axis=1)"
   ]
  },
  {
   "cell_type": "code",
   "execution_count": 14,
   "id": "f99f4789",
   "metadata": {
    "execution": {
     "iopub.execute_input": "2022-10-19T12:33:25.871133Z",
     "iopub.status.busy": "2022-10-19T12:33:25.870690Z",
     "iopub.status.idle": "2022-10-19T12:33:25.902359Z",
     "shell.execute_reply": "2022-10-19T12:33:25.901171Z"
    },
    "papermill": {
     "duration": 0.045041,
     "end_time": "2022-10-19T12:33:25.906206",
     "exception": false,
     "start_time": "2022-10-19T12:33:25.861165",
     "status": "completed"
    },
    "tags": []
   },
   "outputs": [
    {
     "data": {
      "text/html": [
       "<div>\n",
       "<style scoped>\n",
       "    .dataframe tbody tr th:only-of-type {\n",
       "        vertical-align: middle;\n",
       "    }\n",
       "\n",
       "    .dataframe tbody tr th {\n",
       "        vertical-align: top;\n",
       "    }\n",
       "\n",
       "    .dataframe thead th {\n",
       "        text-align: right;\n",
       "    }\n",
       "</style>\n",
       "<table border=\"1\" class=\"dataframe\">\n",
       "  <thead>\n",
       "    <tr style=\"text-align: right;\">\n",
       "      <th></th>\n",
       "      <th>gender</th>\n",
       "      <th>age</th>\n",
       "      <th>hypertension</th>\n",
       "      <th>heart_disease</th>\n",
       "      <th>ever_married</th>\n",
       "      <th>work_type</th>\n",
       "      <th>Residence_type</th>\n",
       "      <th>avg_glucose_level</th>\n",
       "      <th>bmi</th>\n",
       "      <th>smoking_status</th>\n",
       "      <th>stroke</th>\n",
       "    </tr>\n",
       "  </thead>\n",
       "  <tbody>\n",
       "    <tr>\n",
       "      <th>0</th>\n",
       "      <td>Male</td>\n",
       "      <td>67.0</td>\n",
       "      <td>0</td>\n",
       "      <td>1</td>\n",
       "      <td>Yes</td>\n",
       "      <td>Private</td>\n",
       "      <td>Urban</td>\n",
       "      <td>228.69</td>\n",
       "      <td>36.6</td>\n",
       "      <td>formerly smoked</td>\n",
       "      <td>1</td>\n",
       "    </tr>\n",
       "    <tr>\n",
       "      <th>1</th>\n",
       "      <td>Female</td>\n",
       "      <td>61.0</td>\n",
       "      <td>0</td>\n",
       "      <td>0</td>\n",
       "      <td>Yes</td>\n",
       "      <td>Self-employed</td>\n",
       "      <td>Rural</td>\n",
       "      <td>202.21</td>\n",
       "      <td>NaN</td>\n",
       "      <td>never smoked</td>\n",
       "      <td>1</td>\n",
       "    </tr>\n",
       "    <tr>\n",
       "      <th>2</th>\n",
       "      <td>Male</td>\n",
       "      <td>80.0</td>\n",
       "      <td>0</td>\n",
       "      <td>1</td>\n",
       "      <td>Yes</td>\n",
       "      <td>Private</td>\n",
       "      <td>Rural</td>\n",
       "      <td>105.92</td>\n",
       "      <td>32.5</td>\n",
       "      <td>never smoked</td>\n",
       "      <td>1</td>\n",
       "    </tr>\n",
       "    <tr>\n",
       "      <th>3</th>\n",
       "      <td>Female</td>\n",
       "      <td>49.0</td>\n",
       "      <td>0</td>\n",
       "      <td>0</td>\n",
       "      <td>Yes</td>\n",
       "      <td>Private</td>\n",
       "      <td>Urban</td>\n",
       "      <td>171.23</td>\n",
       "      <td>34.4</td>\n",
       "      <td>smokes</td>\n",
       "      <td>1</td>\n",
       "    </tr>\n",
       "    <tr>\n",
       "      <th>4</th>\n",
       "      <td>Female</td>\n",
       "      <td>79.0</td>\n",
       "      <td>1</td>\n",
       "      <td>0</td>\n",
       "      <td>Yes</td>\n",
       "      <td>Self-employed</td>\n",
       "      <td>Rural</td>\n",
       "      <td>174.12</td>\n",
       "      <td>24.0</td>\n",
       "      <td>never smoked</td>\n",
       "      <td>1</td>\n",
       "    </tr>\n",
       "    <tr>\n",
       "      <th>...</th>\n",
       "      <td>...</td>\n",
       "      <td>...</td>\n",
       "      <td>...</td>\n",
       "      <td>...</td>\n",
       "      <td>...</td>\n",
       "      <td>...</td>\n",
       "      <td>...</td>\n",
       "      <td>...</td>\n",
       "      <td>...</td>\n",
       "      <td>...</td>\n",
       "      <td>...</td>\n",
       "    </tr>\n",
       "    <tr>\n",
       "      <th>5105</th>\n",
       "      <td>Female</td>\n",
       "      <td>80.0</td>\n",
       "      <td>1</td>\n",
       "      <td>0</td>\n",
       "      <td>Yes</td>\n",
       "      <td>Private</td>\n",
       "      <td>Urban</td>\n",
       "      <td>83.75</td>\n",
       "      <td>NaN</td>\n",
       "      <td>never smoked</td>\n",
       "      <td>0</td>\n",
       "    </tr>\n",
       "    <tr>\n",
       "      <th>5106</th>\n",
       "      <td>Female</td>\n",
       "      <td>81.0</td>\n",
       "      <td>0</td>\n",
       "      <td>0</td>\n",
       "      <td>Yes</td>\n",
       "      <td>Self-employed</td>\n",
       "      <td>Urban</td>\n",
       "      <td>125.20</td>\n",
       "      <td>40.0</td>\n",
       "      <td>never smoked</td>\n",
       "      <td>0</td>\n",
       "    </tr>\n",
       "    <tr>\n",
       "      <th>5107</th>\n",
       "      <td>Female</td>\n",
       "      <td>35.0</td>\n",
       "      <td>0</td>\n",
       "      <td>0</td>\n",
       "      <td>Yes</td>\n",
       "      <td>Self-employed</td>\n",
       "      <td>Rural</td>\n",
       "      <td>82.99</td>\n",
       "      <td>30.6</td>\n",
       "      <td>never smoked</td>\n",
       "      <td>0</td>\n",
       "    </tr>\n",
       "    <tr>\n",
       "      <th>5108</th>\n",
       "      <td>Male</td>\n",
       "      <td>51.0</td>\n",
       "      <td>0</td>\n",
       "      <td>0</td>\n",
       "      <td>Yes</td>\n",
       "      <td>Private</td>\n",
       "      <td>Rural</td>\n",
       "      <td>166.29</td>\n",
       "      <td>25.6</td>\n",
       "      <td>formerly smoked</td>\n",
       "      <td>0</td>\n",
       "    </tr>\n",
       "    <tr>\n",
       "      <th>5109</th>\n",
       "      <td>Female</td>\n",
       "      <td>44.0</td>\n",
       "      <td>0</td>\n",
       "      <td>0</td>\n",
       "      <td>Yes</td>\n",
       "      <td>Govt_job</td>\n",
       "      <td>Urban</td>\n",
       "      <td>85.28</td>\n",
       "      <td>26.2</td>\n",
       "      <td>Unknown</td>\n",
       "      <td>0</td>\n",
       "    </tr>\n",
       "  </tbody>\n",
       "</table>\n",
       "<p>5110 rows × 11 columns</p>\n",
       "</div>"
      ],
      "text/plain": [
       "      gender   age  hypertension  heart_disease ever_married      work_type  \\\n",
       "0       Male  67.0             0              1          Yes        Private   \n",
       "1     Female  61.0             0              0          Yes  Self-employed   \n",
       "2       Male  80.0             0              1          Yes        Private   \n",
       "3     Female  49.0             0              0          Yes        Private   \n",
       "4     Female  79.0             1              0          Yes  Self-employed   \n",
       "...      ...   ...           ...            ...          ...            ...   \n",
       "5105  Female  80.0             1              0          Yes        Private   \n",
       "5106  Female  81.0             0              0          Yes  Self-employed   \n",
       "5107  Female  35.0             0              0          Yes  Self-employed   \n",
       "5108    Male  51.0             0              0          Yes        Private   \n",
       "5109  Female  44.0             0              0          Yes       Govt_job   \n",
       "\n",
       "     Residence_type  avg_glucose_level   bmi   smoking_status  stroke  \n",
       "0             Urban             228.69  36.6  formerly smoked       1  \n",
       "1             Rural             202.21   NaN     never smoked       1  \n",
       "2             Rural             105.92  32.5     never smoked       1  \n",
       "3             Urban             171.23  34.4           smokes       1  \n",
       "4             Rural             174.12  24.0     never smoked       1  \n",
       "...             ...                ...   ...              ...     ...  \n",
       "5105          Urban              83.75   NaN     never smoked       0  \n",
       "5106          Urban             125.20  40.0     never smoked       0  \n",
       "5107          Rural              82.99  30.6     never smoked       0  \n",
       "5108          Rural             166.29  25.6  formerly smoked       0  \n",
       "5109          Urban              85.28  26.2          Unknown       0  \n",
       "\n",
       "[5110 rows x 11 columns]"
      ]
     },
     "execution_count": 14,
     "metadata": {},
     "output_type": "execute_result"
    }
   ],
   "source": [
    "dataframe"
   ]
  },
  {
   "cell_type": "markdown",
   "id": "c883226a",
   "metadata": {
    "papermill": {
     "duration": 0.00989,
     "end_time": "2022-10-19T12:33:25.925203",
     "exception": false,
     "start_time": "2022-10-19T12:33:25.915313",
     "status": "completed"
    },
    "tags": []
   },
   "source": [
    "we have loaded the file and opened the data. there are a total of 5110 rows and 11 columns. \n",
    "ID column wasn't an essential one for data analysis and prediction so dropped it using pandas .drop function.\n",
    "\n",
    "'age', 'hypertension', 'heart_disease', 'avg_glucose_level', 'bmi', 'stroke' are Numerical columns where Stroke will be the dependant/target attribute and used for predictive analysis.\n",
    "\n",
    "Rest of the columns are numerical"
   ]
  },
  {
   "cell_type": "code",
   "execution_count": 15,
   "id": "dc475c15",
   "metadata": {
    "execution": {
     "iopub.execute_input": "2022-10-19T12:33:25.944643Z",
     "iopub.status.busy": "2022-10-19T12:33:25.943857Z",
     "iopub.status.idle": "2022-10-19T12:33:25.964138Z",
     "shell.execute_reply": "2022-10-19T12:33:25.962928Z"
    },
    "papermill": {
     "duration": 0.033093,
     "end_time": "2022-10-19T12:33:25.966906",
     "exception": false,
     "start_time": "2022-10-19T12:33:25.933813",
     "status": "completed"
    },
    "tags": []
   },
   "outputs": [
    {
     "name": "stdout",
     "output_type": "stream",
     "text": [
      "<class 'pandas.core.frame.DataFrame'>\n",
      "RangeIndex: 5110 entries, 0 to 5109\n",
      "Data columns (total 11 columns):\n",
      " #   Column             Non-Null Count  Dtype  \n",
      "---  ------             --------------  -----  \n",
      " 0   gender             5110 non-null   object \n",
      " 1   age                5110 non-null   float64\n",
      " 2   hypertension       5110 non-null   int64  \n",
      " 3   heart_disease      5110 non-null   int64  \n",
      " 4   ever_married       5110 non-null   object \n",
      " 5   work_type          5110 non-null   object \n",
      " 6   Residence_type     5110 non-null   object \n",
      " 7   avg_glucose_level  5110 non-null   float64\n",
      " 8   bmi                4909 non-null   float64\n",
      " 9   smoking_status     5110 non-null   object \n",
      " 10  stroke             5110 non-null   int64  \n",
      "dtypes: float64(3), int64(3), object(5)\n",
      "memory usage: 439.3+ KB\n"
     ]
    }
   ],
   "source": [
    "dataframe.info()"
   ]
  },
  {
   "cell_type": "markdown",
   "id": "5f9b4283",
   "metadata": {
    "papermill": {
     "duration": 0.009255,
     "end_time": "2022-10-19T12:33:25.984888",
     "exception": false,
     "start_time": "2022-10-19T12:33:25.975633",
     "status": "completed"
    },
    "tags": []
   },
   "source": [
    "the data comprises of 3 float, 3 integer and 5 object types.Out of all BMI seems to have some null values."
   ]
  },
  {
   "cell_type": "code",
   "execution_count": 16,
   "id": "52860cd7",
   "metadata": {
    "execution": {
     "iopub.execute_input": "2022-10-19T12:33:26.004419Z",
     "iopub.status.busy": "2022-10-19T12:33:26.003985Z",
     "iopub.status.idle": "2022-10-19T12:33:26.037992Z",
     "shell.execute_reply": "2022-10-19T12:33:26.036860Z"
    },
    "papermill": {
     "duration": 0.047152,
     "end_time": "2022-10-19T12:33:26.041023",
     "exception": false,
     "start_time": "2022-10-19T12:33:25.993871",
     "status": "completed"
    },
    "tags": []
   },
   "outputs": [
    {
     "data": {
      "text/html": [
       "<div>\n",
       "<style scoped>\n",
       "    .dataframe tbody tr th:only-of-type {\n",
       "        vertical-align: middle;\n",
       "    }\n",
       "\n",
       "    .dataframe tbody tr th {\n",
       "        vertical-align: top;\n",
       "    }\n",
       "\n",
       "    .dataframe thead th {\n",
       "        text-align: right;\n",
       "    }\n",
       "</style>\n",
       "<table border=\"1\" class=\"dataframe\">\n",
       "  <thead>\n",
       "    <tr style=\"text-align: right;\">\n",
       "      <th></th>\n",
       "      <th>age</th>\n",
       "      <th>hypertension</th>\n",
       "      <th>heart_disease</th>\n",
       "      <th>avg_glucose_level</th>\n",
       "      <th>bmi</th>\n",
       "      <th>stroke</th>\n",
       "    </tr>\n",
       "  </thead>\n",
       "  <tbody>\n",
       "    <tr>\n",
       "      <th>count</th>\n",
       "      <td>5110.000000</td>\n",
       "      <td>5110.000000</td>\n",
       "      <td>5110.000000</td>\n",
       "      <td>5110.000000</td>\n",
       "      <td>4909.000000</td>\n",
       "      <td>5110.000000</td>\n",
       "    </tr>\n",
       "    <tr>\n",
       "      <th>mean</th>\n",
       "      <td>43.226614</td>\n",
       "      <td>0.097456</td>\n",
       "      <td>0.054012</td>\n",
       "      <td>106.147677</td>\n",
       "      <td>28.893237</td>\n",
       "      <td>0.048728</td>\n",
       "    </tr>\n",
       "    <tr>\n",
       "      <th>std</th>\n",
       "      <td>22.612647</td>\n",
       "      <td>0.296607</td>\n",
       "      <td>0.226063</td>\n",
       "      <td>45.283560</td>\n",
       "      <td>7.854067</td>\n",
       "      <td>0.215320</td>\n",
       "    </tr>\n",
       "    <tr>\n",
       "      <th>min</th>\n",
       "      <td>0.080000</td>\n",
       "      <td>0.000000</td>\n",
       "      <td>0.000000</td>\n",
       "      <td>55.120000</td>\n",
       "      <td>10.300000</td>\n",
       "      <td>0.000000</td>\n",
       "    </tr>\n",
       "    <tr>\n",
       "      <th>25%</th>\n",
       "      <td>25.000000</td>\n",
       "      <td>0.000000</td>\n",
       "      <td>0.000000</td>\n",
       "      <td>77.245000</td>\n",
       "      <td>23.500000</td>\n",
       "      <td>0.000000</td>\n",
       "    </tr>\n",
       "    <tr>\n",
       "      <th>50%</th>\n",
       "      <td>45.000000</td>\n",
       "      <td>0.000000</td>\n",
       "      <td>0.000000</td>\n",
       "      <td>91.885000</td>\n",
       "      <td>28.100000</td>\n",
       "      <td>0.000000</td>\n",
       "    </tr>\n",
       "    <tr>\n",
       "      <th>75%</th>\n",
       "      <td>61.000000</td>\n",
       "      <td>0.000000</td>\n",
       "      <td>0.000000</td>\n",
       "      <td>114.090000</td>\n",
       "      <td>33.100000</td>\n",
       "      <td>0.000000</td>\n",
       "    </tr>\n",
       "    <tr>\n",
       "      <th>max</th>\n",
       "      <td>82.000000</td>\n",
       "      <td>1.000000</td>\n",
       "      <td>1.000000</td>\n",
       "      <td>271.740000</td>\n",
       "      <td>97.600000</td>\n",
       "      <td>1.000000</td>\n",
       "    </tr>\n",
       "  </tbody>\n",
       "</table>\n",
       "</div>"
      ],
      "text/plain": [
       "               age  hypertension  heart_disease  avg_glucose_level  \\\n",
       "count  5110.000000   5110.000000    5110.000000        5110.000000   \n",
       "mean     43.226614      0.097456       0.054012         106.147677   \n",
       "std      22.612647      0.296607       0.226063          45.283560   \n",
       "min       0.080000      0.000000       0.000000          55.120000   \n",
       "25%      25.000000      0.000000       0.000000          77.245000   \n",
       "50%      45.000000      0.000000       0.000000          91.885000   \n",
       "75%      61.000000      0.000000       0.000000         114.090000   \n",
       "max      82.000000      1.000000       1.000000         271.740000   \n",
       "\n",
       "               bmi       stroke  \n",
       "count  4909.000000  5110.000000  \n",
       "mean     28.893237     0.048728  \n",
       "std       7.854067     0.215320  \n",
       "min      10.300000     0.000000  \n",
       "25%      23.500000     0.000000  \n",
       "50%      28.100000     0.000000  \n",
       "75%      33.100000     0.000000  \n",
       "max      97.600000     1.000000  "
      ]
     },
     "execution_count": 16,
     "metadata": {},
     "output_type": "execute_result"
    }
   ],
   "source": [
    "dataframe.describe()"
   ]
  },
  {
   "cell_type": "markdown",
   "id": "1769bcbb",
   "metadata": {
    "papermill": {
     "duration": 0.008723,
     "end_time": "2022-10-19T12:33:26.059600",
     "exception": false,
     "start_time": "2022-10-19T12:33:26.050877",
     "status": "completed"
    },
    "tags": []
   },
   "source": [
    "The numerical data is distrubuted in the above ways. STD is noticable in the sections of age anf avg glucose"
   ]
  },
  {
   "cell_type": "code",
   "execution_count": 17,
   "id": "be805f07",
   "metadata": {
    "execution": {
     "iopub.execute_input": "2022-10-19T12:33:26.079411Z",
     "iopub.status.busy": "2022-10-19T12:33:26.078979Z",
     "iopub.status.idle": "2022-10-19T12:33:26.091246Z",
     "shell.execute_reply": "2022-10-19T12:33:26.090037Z"
    },
    "papermill": {
     "duration": 0.02566,
     "end_time": "2022-10-19T12:33:26.094177",
     "exception": false,
     "start_time": "2022-10-19T12:33:26.068517",
     "status": "completed"
    },
    "tags": []
   },
   "outputs": [
    {
     "data": {
      "text/plain": [
       "gender                 0\n",
       "age                    0\n",
       "hypertension           0\n",
       "heart_disease          0\n",
       "ever_married           0\n",
       "work_type              0\n",
       "Residence_type         0\n",
       "avg_glucose_level      0\n",
       "bmi                  201\n",
       "smoking_status         0\n",
       "stroke                 0\n",
       "dtype: int64"
      ]
     },
     "execution_count": 17,
     "metadata": {},
     "output_type": "execute_result"
    }
   ],
   "source": [
    "dataframe.isna().sum()"
   ]
  },
  {
   "cell_type": "code",
   "execution_count": 18,
   "id": "411d7292",
   "metadata": {
    "execution": {
     "iopub.execute_input": "2022-10-19T12:33:26.114787Z",
     "iopub.status.busy": "2022-10-19T12:33:26.114346Z",
     "iopub.status.idle": "2022-10-19T12:33:26.127764Z",
     "shell.execute_reply": "2022-10-19T12:33:26.126509Z"
    },
    "papermill": {
     "duration": 0.026681,
     "end_time": "2022-10-19T12:33:26.130101",
     "exception": false,
     "start_time": "2022-10-19T12:33:26.103420",
     "status": "completed"
    },
    "tags": []
   },
   "outputs": [
    {
     "name": "stderr",
     "output_type": "stream",
     "text": [
      "C:\\Users\\yuvar\\AppData\\Local\\Temp\\ipykernel_20548\\194550592.py:1: FutureWarning: Dropping of nuisance columns in DataFrame reductions (with 'numeric_only=None') is deprecated; in a future version this will raise TypeError.  Select only valid columns before calling the reduction.\n",
      "  dataframe.skew()\n"
     ]
    },
    {
     "data": {
      "text/plain": [
       "age                 -0.137059\n",
       "hypertension         2.715392\n",
       "heart_disease        3.947244\n",
       "avg_glucose_level    1.572284\n",
       "bmi                  1.055340\n",
       "stroke               4.193284\n",
       "dtype: float64"
      ]
     },
     "execution_count": 18,
     "metadata": {},
     "output_type": "execute_result"
    }
   ],
   "source": [
    "dataframe.skew()"
   ]
  },
  {
   "cell_type": "code",
   "execution_count": 19,
   "id": "17d72f24",
   "metadata": {
    "execution": {
     "iopub.execute_input": "2022-10-19T12:33:26.151340Z",
     "iopub.status.busy": "2022-10-19T12:33:26.150948Z",
     "iopub.status.idle": "2022-10-19T12:33:26.163895Z",
     "shell.execute_reply": "2022-10-19T12:33:26.162546Z"
    },
    "papermill": {
     "duration": 0.026314,
     "end_time": "2022-10-19T12:33:26.166253",
     "exception": false,
     "start_time": "2022-10-19T12:33:26.139939",
     "status": "completed"
    },
    "tags": []
   },
   "outputs": [
    {
     "data": {
      "text/plain": [
       "gender               0\n",
       "age                  0\n",
       "hypertension         0\n",
       "heart_disease        0\n",
       "ever_married         0\n",
       "work_type            0\n",
       "Residence_type       0\n",
       "avg_glucose_level    0\n",
       "bmi                  0\n",
       "smoking_status       0\n",
       "stroke               0\n",
       "dtype: int64"
      ]
     },
     "execution_count": 19,
     "metadata": {},
     "output_type": "execute_result"
    }
   ],
   "source": [
    "dataframe.bmi.fillna(dataframe.bmi.mean(), inplace=True)\n",
    "dataframe.isna().sum()"
   ]
  },
  {
   "cell_type": "markdown",
   "id": "fac1b007",
   "metadata": {
    "papermill": {
     "duration": 0.009134,
     "end_time": "2022-10-19T12:33:26.185234",
     "exception": false,
     "start_time": "2022-10-19T12:33:26.176100",
     "status": "completed"
    },
    "tags": []
   },
   "source": [
    "so i have took the mean of all the values of bmi section and imputed the missing data in this way. now we don't have to worry at all about the missing data"
   ]
  },
  {
   "cell_type": "code",
   "execution_count": 20,
   "id": "c3049e64",
   "metadata": {},
   "outputs": [
    {
     "data": {
      "text/html": [
       "<div>\n",
       "<style scoped>\n",
       "    .dataframe tbody tr th:only-of-type {\n",
       "        vertical-align: middle;\n",
       "    }\n",
       "\n",
       "    .dataframe tbody tr th {\n",
       "        vertical-align: top;\n",
       "    }\n",
       "\n",
       "    .dataframe thead th {\n",
       "        text-align: right;\n",
       "    }\n",
       "</style>\n",
       "<table border=\"1\" class=\"dataframe\">\n",
       "  <thead>\n",
       "    <tr style=\"text-align: right;\">\n",
       "      <th></th>\n",
       "      <th>gender</th>\n",
       "      <th>age</th>\n",
       "      <th>hypertension</th>\n",
       "      <th>heart_disease</th>\n",
       "      <th>ever_married</th>\n",
       "      <th>work_type</th>\n",
       "      <th>Residence_type</th>\n",
       "      <th>avg_glucose_level</th>\n",
       "      <th>bmi</th>\n",
       "      <th>smoking_status</th>\n",
       "      <th>stroke</th>\n",
       "    </tr>\n",
       "  </thead>\n",
       "  <tbody>\n",
       "    <tr>\n",
       "      <th>0</th>\n",
       "      <td>Male</td>\n",
       "      <td>67.0</td>\n",
       "      <td>0</td>\n",
       "      <td>1</td>\n",
       "      <td>Yes</td>\n",
       "      <td>Private</td>\n",
       "      <td>Urban</td>\n",
       "      <td>228.69</td>\n",
       "      <td>36.600000</td>\n",
       "      <td>formerly smoked</td>\n",
       "      <td>1</td>\n",
       "    </tr>\n",
       "    <tr>\n",
       "      <th>1</th>\n",
       "      <td>Female</td>\n",
       "      <td>61.0</td>\n",
       "      <td>0</td>\n",
       "      <td>0</td>\n",
       "      <td>Yes</td>\n",
       "      <td>Self-employed</td>\n",
       "      <td>Rural</td>\n",
       "      <td>202.21</td>\n",
       "      <td>28.893237</td>\n",
       "      <td>never smoked</td>\n",
       "      <td>1</td>\n",
       "    </tr>\n",
       "    <tr>\n",
       "      <th>2</th>\n",
       "      <td>Male</td>\n",
       "      <td>80.0</td>\n",
       "      <td>0</td>\n",
       "      <td>1</td>\n",
       "      <td>Yes</td>\n",
       "      <td>Private</td>\n",
       "      <td>Rural</td>\n",
       "      <td>105.92</td>\n",
       "      <td>32.500000</td>\n",
       "      <td>never smoked</td>\n",
       "      <td>1</td>\n",
       "    </tr>\n",
       "    <tr>\n",
       "      <th>3</th>\n",
       "      <td>Female</td>\n",
       "      <td>49.0</td>\n",
       "      <td>0</td>\n",
       "      <td>0</td>\n",
       "      <td>Yes</td>\n",
       "      <td>Private</td>\n",
       "      <td>Urban</td>\n",
       "      <td>171.23</td>\n",
       "      <td>34.400000</td>\n",
       "      <td>smokes</td>\n",
       "      <td>1</td>\n",
       "    </tr>\n",
       "    <tr>\n",
       "      <th>4</th>\n",
       "      <td>Female</td>\n",
       "      <td>79.0</td>\n",
       "      <td>1</td>\n",
       "      <td>0</td>\n",
       "      <td>Yes</td>\n",
       "      <td>Self-employed</td>\n",
       "      <td>Rural</td>\n",
       "      <td>174.12</td>\n",
       "      <td>24.000000</td>\n",
       "      <td>never smoked</td>\n",
       "      <td>1</td>\n",
       "    </tr>\n",
       "  </tbody>\n",
       "</table>\n",
       "</div>"
      ],
      "text/plain": [
       "   gender   age  hypertension  heart_disease ever_married      work_type  \\\n",
       "0    Male  67.0             0              1          Yes        Private   \n",
       "1  Female  61.0             0              0          Yes  Self-employed   \n",
       "2    Male  80.0             0              1          Yes        Private   \n",
       "3  Female  49.0             0              0          Yes        Private   \n",
       "4  Female  79.0             1              0          Yes  Self-employed   \n",
       "\n",
       "  Residence_type  avg_glucose_level        bmi   smoking_status  stroke  \n",
       "0          Urban             228.69  36.600000  formerly smoked       1  \n",
       "1          Rural             202.21  28.893237     never smoked       1  \n",
       "2          Rural             105.92  32.500000     never smoked       1  \n",
       "3          Urban             171.23  34.400000           smokes       1  \n",
       "4          Rural             174.12  24.000000     never smoked       1  "
      ]
     },
     "execution_count": 20,
     "metadata": {},
     "output_type": "execute_result"
    }
   ],
   "source": [
    "dataframe.head()"
   ]
  },
  {
   "cell_type": "code",
   "execution_count": 21,
   "id": "9c41b39c",
   "metadata": {
    "execution": {
     "iopub.execute_input": "2022-10-19T12:33:26.206748Z",
     "iopub.status.busy": "2022-10-19T12:33:26.206074Z",
     "iopub.status.idle": "2022-10-19T12:33:26.551216Z",
     "shell.execute_reply": "2022-10-19T12:33:26.549995Z"
    },
    "papermill": {
     "duration": 0.359049,
     "end_time": "2022-10-19T12:33:26.553786",
     "exception": false,
     "start_time": "2022-10-19T12:33:26.194737",
     "status": "completed"
    },
    "tags": []
   },
   "outputs": [
    {
     "data": {
      "text/plain": [
       "<AxesSubplot:>"
      ]
     },
     "execution_count": 21,
     "metadata": {},
     "output_type": "execute_result"
    },
    {
     "data": {
      "image/png": "[encoded data removed]",
      "text/plain": [
       "<Figure size 432x288 with 2 Axes>"
      ]
     },
     "metadata": {
      "needs_background": "light"
     },
     "output_type": "display_data"
    }
   ],
   "source": [
    "corr=dataframe.corr()\n",
    "sns.heatmap(corr)"
   ]
  },
  {
   "cell_type": "code",
   "execution_count": null,
   "id": "1d94c9e1",
   "metadata": {},
   "outputs": [],
   "source": []
  },
  {
   "cell_type": "code",
   "execution_count": null,
   "id": "35a18693",
   "metadata": {},
   "outputs": [],
   "source": []
  },
  {
   "cell_type": "code",
   "execution_count": null,
   "id": "dc4cb701",
   "metadata": {},
   "outputs": [],
   "source": []
  },
  {
   "cell_type": "markdown",
   "id": "724ca8f2",
   "metadata": {
    "papermill": {
     "duration": 0.009607,
     "end_time": "2022-10-19T12:33:26.573373",
     "exception": false,
     "start_time": "2022-10-19T12:33:26.563766",
     "status": "completed"
    },
    "tags": []
   },
   "source": [
    "None of the values seem to be interlinked to me."
   ]
  },
  {
   "cell_type": "code",
   "execution_count": 22,
   "id": "d33322cd",
   "metadata": {
    "execution": {
     "iopub.execute_input": "2022-10-19T12:33:26.595511Z",
     "iopub.status.busy": "2022-10-19T12:33:26.595074Z",
     "iopub.status.idle": "2022-10-19T12:33:27.053065Z",
     "shell.execute_reply": "2022-10-19T12:33:27.051848Z"
    },
    "papermill": {
     "duration": 0.472399,
     "end_time": "2022-10-19T12:33:27.055569",
     "exception": false,
     "start_time": "2022-10-19T12:33:26.583170",
     "status": "completed"
    },
    "tags": []
   },
   "outputs": [
    {
     "data": {
      "image/png": "[encoded data removed]",
      "text/plain": [
       "<Figure size 1152x432 with 1 Axes>"
      ]
     },
     "metadata": {
      "needs_background": "light"
     },
     "output_type": "display_data"
    }
   ],
   "source": [
    "plt.figure(figsize=(16,6));\n",
    "sns.barplot(\n",
    "    data=dataframe, x=\"gender\", y=\"age\", hue=\"stroke\");"
   ]
  },
  {
   "cell_type": "code",
   "execution_count": 23,
   "id": "e7cd9ce0",
   "metadata": {
    "execution": {
     "iopub.execute_input": "2022-10-19T12:33:27.077472Z",
     "iopub.status.busy": "2022-10-19T12:33:27.077008Z",
     "iopub.status.idle": "2022-10-19T12:33:27.328744Z",
     "shell.execute_reply": "2022-10-19T12:33:27.327585Z"
    },
    "papermill": {
     "duration": 0.26571,
     "end_time": "2022-10-19T12:33:27.331384",
     "exception": false,
     "start_time": "2022-10-19T12:33:27.065674",
     "status": "completed"
    },
    "tags": []
   },
   "outputs": [
    {
     "data": {
      "text/plain": [
       "<AxesSubplot:xlabel='stroke', ylabel='Count'>"
      ]
     },
     "execution_count": 23,
     "metadata": {},
     "output_type": "execute_result"
    },
    {
     "data": {
      "image/png": "[encoded data removed]",
      "text/plain": [
       "<Figure size 432x288 with 1 Axes>"
      ]
     },
     "metadata": {
      "needs_background": "light"
     },
     "output_type": "display_data"
    }
   ],
   "source": [
    "\n",
    "sns.histplot(dataframe.stroke)"
   ]
  },
  {
   "cell_type": "markdown",
   "id": "813c0560",
   "metadata": {
    "papermill": {
     "duration": 0.010527,
     "end_time": "2022-10-19T12:33:27.352315",
     "exception": false,
     "start_time": "2022-10-19T12:33:27.341788",
     "status": "completed"
    },
    "tags": []
   },
   "source": [
    "out of all the surveyors, only 200-300 have had the history of stroke, rest of the people have negetive history"
   ]
  },
  {
   "cell_type": "code",
   "execution_count": null,
   "id": "8467d3aa",
   "metadata": {
    "papermill": {
     "duration": 0.010177,
     "end_time": "2022-10-19T12:33:27.372832",
     "exception": false,
     "start_time": "2022-10-19T12:33:27.362655",
     "status": "completed"
    },
    "tags": []
   },
   "outputs": [],
   "source": []
  },
  {
   "cell_type": "code",
   "execution_count": 24,
   "id": "053b7d20",
   "metadata": {
    "execution": {
     "iopub.execute_input": "2022-10-19T12:33:27.395636Z",
     "iopub.status.busy": "2022-10-19T12:33:27.395187Z",
     "iopub.status.idle": "2022-10-19T12:33:29.569345Z",
     "shell.execute_reply": "2022-10-19T12:33:29.568040Z"
    },
    "papermill": {
     "duration": 2.188793,
     "end_time": "2022-10-19T12:33:29.572106",
     "exception": false,
     "start_time": "2022-10-19T12:33:27.383313",
     "status": "completed"
    },
    "scrolled": false,
    "tags": []
   },
   "outputs": [],
   "source": [
    "from pandas.api.types import is_string_dtype, is_numeric_dtype\n",
    "# # bar chart and histogram\n",
    "# for column in dataframe:\n",
    "#     plt.figure(column, figsize = (4.9,4.9))\n",
    "#     plt.title(column)\n",
    "#     if is_numeric_dtype(dataframe[column]):\n",
    "#         dataframe[column].plot(kind = 'hist')\n",
    "#     elif is_string_dtype(dataframe[column]):\n",
    "#  # show only the TOP 10 value count in each categorical data\n",
    "#         dataframe[column].value_counts()[:10].plot(kind = 'bar')"
   ]
  },
  {
   "cell_type": "markdown",
   "id": "29fafd43",
   "metadata": {
    "papermill": {
     "duration": 0.012496,
     "end_time": "2022-10-19T12:33:29.597866",
     "exception": false,
     "start_time": "2022-10-19T12:33:29.585370",
     "status": "completed"
    },
    "tags": []
   },
   "source": [
    "seems like more females have took the survey than males. age group of 50-60 year is more common amony the surveyous. Most of the surveyors are married, and indulged in Private job plus most of them have no cardiac, diabetic or hypertensive history."
   ]
  },
  {
   "cell_type": "code",
   "execution_count": 25,
   "id": "403e875a",
   "metadata": {
    "execution": {
     "iopub.execute_input": "2022-10-19T12:33:29.625468Z",
     "iopub.status.busy": "2022-10-19T12:33:29.624671Z",
     "iopub.status.idle": "2022-10-19T12:33:29.632627Z",
     "shell.execute_reply": "2022-10-19T12:33:29.631508Z"
    },
    "papermill": {
     "duration": 0.024705,
     "end_time": "2022-10-19T12:33:29.635337",
     "exception": false,
     "start_time": "2022-10-19T12:33:29.610632",
     "status": "completed"
    },
    "tags": []
   },
   "outputs": [
    {
     "name": "stdout",
     "output_type": "stream",
     "text": [
      "Numerical columns ['age', 'hypertension', 'heart_disease', 'avg_glucose_level', 'bmi', 'stroke']\n",
      "Categorical columns ['gender', 'ever_married', 'work_type', 'Residence_type', 'smoking_status']\n"
     ]
    }
   ],
   "source": [
    "# populate the list of numeric attributes and categorical attributes\n",
    "num_list = []\n",
    "cat_list = []\n",
    "\n",
    "for column in dataframe:\n",
    "    if is_numeric_dtype(dataframe[column]):\n",
    "        num_list.append(column)\n",
    "    elif is_string_dtype(dataframe[column]):\n",
    "        cat_list.append(column)    \n",
    "\n",
    "print('Numerical columns', num_list)\n",
    "print('Categorical columns', cat_list)"
   ]
  },
  {
   "cell_type": "code",
   "execution_count": 26,
   "id": "5d659c1d",
   "metadata": {
    "execution": {
     "iopub.execute_input": "2022-10-19T12:33:29.663809Z",
     "iopub.status.busy": "2022-10-19T12:33:29.663354Z",
     "iopub.status.idle": "2022-10-19T12:33:43.514214Z",
     "shell.execute_reply": "2022-10-19T12:33:43.513070Z"
    },
    "papermill": {
     "duration": 13.872659,
     "end_time": "2022-10-19T12:33:43.521044",
     "exception": false,
     "start_time": "2022-10-19T12:33:29.648385",
     "status": "completed"
    },
    "tags": []
   },
   "outputs": [
    {
     "data": {
      "text/plain": [
       "<seaborn.axisgrid.PairGrid at 0x18ab46668f0>"
      ]
     },
     "execution_count": 26,
     "metadata": {},
     "output_type": "execute_result"
    },
    {
     "data": {
      "image/png": "[encoded data removed]",
      "text/plain": [
       "<Figure size 942.375x900 with 30 Axes>"
      ]
     },
     "metadata": {
      "needs_background": "light"
     },
     "output_type": "display_data"
    }
   ],
   "source": [
    "sns.pairplot(dataframe,height = 2.5, hue='stroke')"
   ]
  },
  {
   "cell_type": "markdown",
   "id": "c4095b2f",
   "metadata": {
    "papermill": {
     "duration": 0.017598,
     "end_time": "2022-10-19T12:33:43.557272",
     "exception": false,
     "start_time": "2022-10-19T12:33:43.539674",
     "status": "completed"
    },
    "tags": []
   },
   "source": [
    "Most the patients who had stroke were of 60-80 years having positive history of diabetes and high BMI"
   ]
  },
  {
   "cell_type": "code",
   "execution_count": 27,
   "id": "17a8b6c7",
   "metadata": {
    "execution": {
     "iopub.execute_input": "2022-10-19T12:33:43.595633Z",
     "iopub.status.busy": "2022-10-19T12:33:43.594645Z",
     "iopub.status.idle": "2022-10-19T12:33:43.599354Z",
     "shell.execute_reply": "2022-10-19T12:33:43.598556Z"
    },
    "papermill": {
     "duration": 0.026128,
     "end_time": "2022-10-19T12:33:43.601493",
     "exception": false,
     "start_time": "2022-10-19T12:33:43.575365",
     "status": "completed"
    },
    "tags": []
   },
   "outputs": [],
   "source": [
    "df=dataframe"
   ]
  },
  {
   "cell_type": "code",
   "execution_count": 28,
   "id": "fa5c9a57",
   "metadata": {
    "execution": {
     "iopub.execute_input": "2022-10-19T12:33:43.638807Z",
     "iopub.status.busy": "2022-10-19T12:33:43.638063Z",
     "iopub.status.idle": "2022-10-19T12:33:48.980101Z",
     "shell.execute_reply": "2022-10-19T12:33:48.978605Z"
    },
    "papermill": {
     "duration": 5.363915,
     "end_time": "2022-10-19T12:33:48.983049",
     "exception": false,
     "start_time": "2022-10-19T12:33:43.619134",
     "status": "completed"
    },
    "scrolled": false,
    "tags": []
   },
   "outputs": [],
   "source": [
    "# # grouped bar chart\n",
    "# for i in range(0, len(cat_list)):\n",
    "#     primary_cat = cat_list[i]\n",
    "#     for j in range(0, len(cat_list)):\n",
    "#         secondary_cat = cat_list[j]\n",
    "#         if secondary_cat != primary_cat:\n",
    "#             plt.figure (figsize = (5,5))\n",
    "#             chart = sns.countplot(\n",
    "#                 data = df,\n",
    "#                 x= primary_cat, \n",
    "#                 hue= secondary_cat,\n",
    "#                 palette = 'GnBu',\n",
    "#                 order=df[primary_cat].value_counts().iloc[:10].index #show only TOP10\n",
    "#               )"
   ]
  },
  {
   "cell_type": "code",
   "execution_count": 29,
   "id": "4e6ace5f",
   "metadata": {
    "execution": {
     "iopub.execute_input": "2022-10-19T12:33:49.036735Z",
     "iopub.status.busy": "2022-10-19T12:33:49.035892Z",
     "iopub.status.idle": "2022-10-19T12:33:55.453954Z",
     "shell.execute_reply": "2022-10-19T12:33:55.452641Z"
    },
    "papermill": {
     "duration": 6.447696,
     "end_time": "2022-10-19T12:33:55.456669",
     "exception": false,
     "start_time": "2022-10-19T12:33:49.008973",
     "status": "completed"
    },
    "scrolled": false,
    "tags": []
   },
   "outputs": [],
   "source": [
    "# for i in range(0, len(cat_list)):\n",
    "#     cat = cat_list[i]\n",
    "#     for j in range(0, len(num_list)):\n",
    "#         num = num_list[j]\n",
    "#         plt.figure (figsize = (5,5))\n",
    "#         sns.boxplot( x = cat, y = num, data = df, palette = \"GnBu\")"
   ]
  },
  {
   "cell_type": "code",
   "execution_count": 30,
   "id": "7a06d8cf",
   "metadata": {
    "execution": {
     "iopub.execute_input": "2022-10-19T12:33:55.523080Z",
     "iopub.status.busy": "2022-10-19T12:33:55.522671Z",
     "iopub.status.idle": "2022-10-19T12:33:55.563722Z",
     "shell.execute_reply": "2022-10-19T12:33:55.562520Z"
    },
    "papermill": {
     "duration": 0.077668,
     "end_time": "2022-10-19T12:33:55.566469",
     "exception": false,
     "start_time": "2022-10-19T12:33:55.488801",
     "status": "completed"
    },
    "tags": []
   },
   "outputs": [
    {
     "data": {
      "text/html": [
       "<div>\n",
       "<style scoped>\n",
       "    .dataframe tbody tr th:only-of-type {\n",
       "        vertical-align: middle;\n",
       "    }\n",
       "\n",
       "    .dataframe tbody tr th {\n",
       "        vertical-align: top;\n",
       "    }\n",
       "\n",
       "    .dataframe thead th {\n",
       "        text-align: right;\n",
       "    }\n",
       "</style>\n",
       "<table border=\"1\" class=\"dataframe\">\n",
       "  <thead>\n",
       "    <tr style=\"text-align: right;\">\n",
       "      <th></th>\n",
       "      <th>age</th>\n",
       "      <th>hypertension</th>\n",
       "      <th>heart_disease</th>\n",
       "      <th>avg_glucose_level</th>\n",
       "      <th>bmi</th>\n",
       "      <th>stroke</th>\n",
       "      <th>gender_Female</th>\n",
       "      <th>gender_Male</th>\n",
       "      <th>gender_Other</th>\n",
       "      <th>ever_married_No</th>\n",
       "      <th>...</th>\n",
       "      <th>work_type_Never_worked</th>\n",
       "      <th>work_type_Private</th>\n",
       "      <th>work_type_Self-employed</th>\n",
       "      <th>work_type_children</th>\n",
       "      <th>Residence_type_Rural</th>\n",
       "      <th>Residence_type_Urban</th>\n",
       "      <th>smoking_status_Unknown</th>\n",
       "      <th>smoking_status_formerly smoked</th>\n",
       "      <th>smoking_status_never smoked</th>\n",
       "      <th>smoking_status_smokes</th>\n",
       "    </tr>\n",
       "  </thead>\n",
       "  <tbody>\n",
       "    <tr>\n",
       "      <th>0</th>\n",
       "      <td>67.0</td>\n",
       "      <td>0</td>\n",
       "      <td>1</td>\n",
       "      <td>228.69</td>\n",
       "      <td>36.600000</td>\n",
       "      <td>1</td>\n",
       "      <td>0</td>\n",
       "      <td>1</td>\n",
       "      <td>0</td>\n",
       "      <td>0</td>\n",
       "      <td>...</td>\n",
       "      <td>0</td>\n",
       "      <td>1</td>\n",
       "      <td>0</td>\n",
       "      <td>0</td>\n",
       "      <td>0</td>\n",
       "      <td>1</td>\n",
       "      <td>0</td>\n",
       "      <td>1</td>\n",
       "      <td>0</td>\n",
       "      <td>0</td>\n",
       "    </tr>\n",
       "    <tr>\n",
       "      <th>1</th>\n",
       "      <td>61.0</td>\n",
       "      <td>0</td>\n",
       "      <td>0</td>\n",
       "      <td>202.21</td>\n",
       "      <td>28.893237</td>\n",
       "      <td>1</td>\n",
       "      <td>1</td>\n",
       "      <td>0</td>\n",
       "      <td>0</td>\n",
       "      <td>0</td>\n",
       "      <td>...</td>\n",
       "      <td>0</td>\n",
       "      <td>0</td>\n",
       "      <td>1</td>\n",
       "      <td>0</td>\n",
       "      <td>1</td>\n",
       "      <td>0</td>\n",
       "      <td>0</td>\n",
       "      <td>0</td>\n",
       "      <td>1</td>\n",
       "      <td>0</td>\n",
       "    </tr>\n",
       "    <tr>\n",
       "      <th>2</th>\n",
       "      <td>80.0</td>\n",
       "      <td>0</td>\n",
       "      <td>1</td>\n",
       "      <td>105.92</td>\n",
       "      <td>32.500000</td>\n",
       "      <td>1</td>\n",
       "      <td>0</td>\n",
       "      <td>1</td>\n",
       "      <td>0</td>\n",
       "      <td>0</td>\n",
       "      <td>...</td>\n",
       "      <td>0</td>\n",
       "      <td>1</td>\n",
       "      <td>0</td>\n",
       "      <td>0</td>\n",
       "      <td>1</td>\n",
       "      <td>0</td>\n",
       "      <td>0</td>\n",
       "      <td>0</td>\n",
       "      <td>1</td>\n",
       "      <td>0</td>\n",
       "    </tr>\n",
       "    <tr>\n",
       "      <th>3</th>\n",
       "      <td>49.0</td>\n",
       "      <td>0</td>\n",
       "      <td>0</td>\n",
       "      <td>171.23</td>\n",
       "      <td>34.400000</td>\n",
       "      <td>1</td>\n",
       "      <td>1</td>\n",
       "      <td>0</td>\n",
       "      <td>0</td>\n",
       "      <td>0</td>\n",
       "      <td>...</td>\n",
       "      <td>0</td>\n",
       "      <td>1</td>\n",
       "      <td>0</td>\n",
       "      <td>0</td>\n",
       "      <td>0</td>\n",
       "      <td>1</td>\n",
       "      <td>0</td>\n",
       "      <td>0</td>\n",
       "      <td>0</td>\n",
       "      <td>1</td>\n",
       "    </tr>\n",
       "    <tr>\n",
       "      <th>4</th>\n",
       "      <td>79.0</td>\n",
       "      <td>1</td>\n",
       "      <td>0</td>\n",
       "      <td>174.12</td>\n",
       "      <td>24.000000</td>\n",
       "      <td>1</td>\n",
       "      <td>1</td>\n",
       "      <td>0</td>\n",
       "      <td>0</td>\n",
       "      <td>0</td>\n",
       "      <td>...</td>\n",
       "      <td>0</td>\n",
       "      <td>0</td>\n",
       "      <td>1</td>\n",
       "      <td>0</td>\n",
       "      <td>1</td>\n",
       "      <td>0</td>\n",
       "      <td>0</td>\n",
       "      <td>0</td>\n",
       "      <td>1</td>\n",
       "      <td>0</td>\n",
       "    </tr>\n",
       "    <tr>\n",
       "      <th>...</th>\n",
       "      <td>...</td>\n",
       "      <td>...</td>\n",
       "      <td>...</td>\n",
       "      <td>...</td>\n",
       "      <td>...</td>\n",
       "      <td>...</td>\n",
       "      <td>...</td>\n",
       "      <td>...</td>\n",
       "      <td>...</td>\n",
       "      <td>...</td>\n",
       "      <td>...</td>\n",
       "      <td>...</td>\n",
       "      <td>...</td>\n",
       "      <td>...</td>\n",
       "      <td>...</td>\n",
       "      <td>...</td>\n",
       "      <td>...</td>\n",
       "      <td>...</td>\n",
       "      <td>...</td>\n",
       "      <td>...</td>\n",
       "      <td>...</td>\n",
       "    </tr>\n",
       "    <tr>\n",
       "      <th>5105</th>\n",
       "      <td>80.0</td>\n",
       "      <td>1</td>\n",
       "      <td>0</td>\n",
       "      <td>83.75</td>\n",
       "      <td>28.893237</td>\n",
       "      <td>0</td>\n",
       "      <td>1</td>\n",
       "      <td>0</td>\n",
       "      <td>0</td>\n",
       "      <td>0</td>\n",
       "      <td>...</td>\n",
       "      <td>0</td>\n",
       "      <td>1</td>\n",
       "      <td>0</td>\n",
       "      <td>0</td>\n",
       "      <td>0</td>\n",
       "      <td>1</td>\n",
       "      <td>0</td>\n",
       "      <td>0</td>\n",
       "      <td>1</td>\n",
       "      <td>0</td>\n",
       "    </tr>\n",
       "    <tr>\n",
       "      <th>5106</th>\n",
       "      <td>81.0</td>\n",
       "      <td>0</td>\n",
       "      <td>0</td>\n",
       "      <td>125.20</td>\n",
       "      <td>40.000000</td>\n",
       "      <td>0</td>\n",
       "      <td>1</td>\n",
       "      <td>0</td>\n",
       "      <td>0</td>\n",
       "      <td>0</td>\n",
       "      <td>...</td>\n",
       "      <td>0</td>\n",
       "      <td>0</td>\n",
       "      <td>1</td>\n",
       "      <td>0</td>\n",
       "      <td>0</td>\n",
       "      <td>1</td>\n",
       "      <td>0</td>\n",
       "      <td>0</td>\n",
       "      <td>1</td>\n",
       "      <td>0</td>\n",
       "    </tr>\n",
       "    <tr>\n",
       "      <th>5107</th>\n",
       "      <td>35.0</td>\n",
       "      <td>0</td>\n",
       "      <td>0</td>\n",
       "      <td>82.99</td>\n",
       "      <td>30.600000</td>\n",
       "      <td>0</td>\n",
       "      <td>1</td>\n",
       "      <td>0</td>\n",
       "      <td>0</td>\n",
       "      <td>0</td>\n",
       "      <td>...</td>\n",
       "      <td>0</td>\n",
       "      <td>0</td>\n",
       "      <td>1</td>\n",
       "      <td>0</td>\n",
       "      <td>1</td>\n",
       "      <td>0</td>\n",
       "      <td>0</td>\n",
       "      <td>0</td>\n",
       "      <td>1</td>\n",
       "      <td>0</td>\n",
       "    </tr>\n",
       "    <tr>\n",
       "      <th>5108</th>\n",
       "      <td>51.0</td>\n",
       "      <td>0</td>\n",
       "      <td>0</td>\n",
       "      <td>166.29</td>\n",
       "      <td>25.600000</td>\n",
       "      <td>0</td>\n",
       "      <td>0</td>\n",
       "      <td>1</td>\n",
       "      <td>0</td>\n",
       "      <td>0</td>\n",
       "      <td>...</td>\n",
       "      <td>0</td>\n",
       "      <td>1</td>\n",
       "      <td>0</td>\n",
       "      <td>0</td>\n",
       "      <td>1</td>\n",
       "      <td>0</td>\n",
       "      <td>0</td>\n",
       "      <td>1</td>\n",
       "      <td>0</td>\n",
       "      <td>0</td>\n",
       "    </tr>\n",
       "    <tr>\n",
       "      <th>5109</th>\n",
       "      <td>44.0</td>\n",
       "      <td>0</td>\n",
       "      <td>0</td>\n",
       "      <td>85.28</td>\n",
       "      <td>26.200000</td>\n",
       "      <td>0</td>\n",
       "      <td>1</td>\n",
       "      <td>0</td>\n",
       "      <td>0</td>\n",
       "      <td>0</td>\n",
       "      <td>...</td>\n",
       "      <td>0</td>\n",
       "      <td>0</td>\n",
       "      <td>0</td>\n",
       "      <td>0</td>\n",
       "      <td>0</td>\n",
       "      <td>1</td>\n",
       "      <td>1</td>\n",
       "      <td>0</td>\n",
       "      <td>0</td>\n",
       "      <td>0</td>\n",
       "    </tr>\n",
       "  </tbody>\n",
       "</table>\n",
       "<p>5110 rows × 22 columns</p>\n",
       "</div>"
      ],
      "text/plain": [
       "       age  hypertension  heart_disease  avg_glucose_level        bmi  stroke  \\\n",
       "0     67.0             0              1             228.69  36.600000       1   \n",
       "1     61.0             0              0             202.21  28.893237       1   \n",
       "2     80.0             0              1             105.92  32.500000       1   \n",
       "3     49.0             0              0             171.23  34.400000       1   \n",
       "4     79.0             1              0             174.12  24.000000       1   \n",
       "...    ...           ...            ...                ...        ...     ...   \n",
       "5105  80.0             1              0              83.75  28.893237       0   \n",
       "5106  81.0             0              0             125.20  40.000000       0   \n",
       "5107  35.0             0              0              82.99  30.600000       0   \n",
       "5108  51.0             0              0             166.29  25.600000       0   \n",
       "5109  44.0             0              0              85.28  26.200000       0   \n",
       "\n",
       "      gender_Female  gender_Male  gender_Other  ever_married_No  ...  \\\n",
       "0                 0            1             0                0  ...   \n",
       "1                 1            0             0                0  ...   \n",
       "2                 0            1             0                0  ...   \n",
       "3                 1            0             0                0  ...   \n",
       "4                 1            0             0                0  ...   \n",
       "...             ...          ...           ...              ...  ...   \n",
       "5105              1            0             0                0  ...   \n",
       "5106              1            0             0                0  ...   \n",
       "5107              1            0             0                0  ...   \n",
       "5108              0            1             0                0  ...   \n",
       "5109              1            0             0                0  ...   \n",
       "\n",
       "      work_type_Never_worked  work_type_Private  work_type_Self-employed  \\\n",
       "0                          0                  1                        0   \n",
       "1                          0                  0                        1   \n",
       "2                          0                  1                        0   \n",
       "3                          0                  1                        0   \n",
       "4                          0                  0                        1   \n",
       "...                      ...                ...                      ...   \n",
       "5105                       0                  1                        0   \n",
       "5106                       0                  0                        1   \n",
       "5107                       0                  0                        1   \n",
       "5108                       0                  1                        0   \n",
       "5109                       0                  0                        0   \n",
       "\n",
       "      work_type_children  Residence_type_Rural  Residence_type_Urban  \\\n",
       "0                      0                     0                     1   \n",
       "1                      0                     1                     0   \n",
       "2                      0                     1                     0   \n",
       "3                      0                     0                     1   \n",
       "4                      0                     1                     0   \n",
       "...                  ...                   ...                   ...   \n",
       "5105                   0                     0                     1   \n",
       "5106                   0                     0                     1   \n",
       "5107                   0                     1                     0   \n",
       "5108                   0                     1                     0   \n",
       "5109                   0                     0                     1   \n",
       "\n",
       "      smoking_status_Unknown  smoking_status_formerly smoked  \\\n",
       "0                          0                               1   \n",
       "1                          0                               0   \n",
       "2                          0                               0   \n",
       "3                          0                               0   \n",
       "4                          0                               0   \n",
       "...                      ...                             ...   \n",
       "5105                       0                               0   \n",
       "5106                       0                               0   \n",
       "5107                       0                               0   \n",
       "5108                       0                               1   \n",
       "5109                       1                               0   \n",
       "\n",
       "      smoking_status_never smoked  smoking_status_smokes  \n",
       "0                               0                      0  \n",
       "1                               1                      0  \n",
       "2                               1                      0  \n",
       "3                               0                      1  \n",
       "4                               1                      0  \n",
       "...                           ...                    ...  \n",
       "5105                            1                      0  \n",
       "5106                            1                      0  \n",
       "5107                            1                      0  \n",
       "5108                            0                      0  \n",
       "5109                            0                      0  \n",
       "\n",
       "[5110 rows x 22 columns]"
      ]
     },
     "execution_count": 30,
     "metadata": {},
     "output_type": "execute_result"
    }
   ],
   "source": [
    "df_dummy = pd.get_dummies(df, columns=['gender', 'ever_married', 'work_type', 'Residence_type', 'smoking_status'])\n",
    "df_dummy"
   ]
  },
  {
   "cell_type": "code",
   "execution_count": 31,
   "id": "718b5e39",
   "metadata": {
    "execution": {
     "iopub.execute_input": "2022-10-19T12:33:55.631446Z",
     "iopub.status.busy": "2022-10-19T12:33:55.631026Z",
     "iopub.status.idle": "2022-10-19T12:33:55.639319Z",
     "shell.execute_reply": "2022-10-19T12:33:55.638237Z"
    },
    "papermill": {
     "duration": 0.043749,
     "end_time": "2022-10-19T12:33:55.641740",
     "exception": false,
     "start_time": "2022-10-19T12:33:55.597991",
     "status": "completed"
    },
    "tags": []
   },
   "outputs": [],
   "source": [
    "X = df_dummy.drop(['stroke'], axis=1)\n",
    "y= df_dummy['stroke']"
   ]
  },
  {
   "cell_type": "code",
   "execution_count": 32,
   "id": "cd4ada79",
   "metadata": {
    "execution": {
     "iopub.execute_input": "2022-10-19T12:33:55.708914Z",
     "iopub.status.busy": "2022-10-19T12:33:55.707425Z",
     "iopub.status.idle": "2022-10-19T12:33:55.946156Z",
     "shell.execute_reply": "2022-10-19T12:33:55.944958Z"
    },
    "papermill": {
     "duration": 0.275098,
     "end_time": "2022-10-19T12:33:55.949035",
     "exception": false,
     "start_time": "2022-10-19T12:33:55.673937",
     "status": "completed"
    },
    "tags": []
   },
   "outputs": [],
   "source": [
    "from sklearn.model_selection import train_test_split\n",
    "X_train, X_test, y_train, y_test = train_test_split(X, y, test_size = 0.2, random_state = 1)"
   ]
  },
  {
   "cell_type": "code",
   "execution_count": 33,
   "id": "67d02b97",
   "metadata": {},
   "outputs": [],
   "source": [
    "from sklearn.ensemble import RandomForestClassifier\n",
    "from sklearn.model_selection import train_test_split\n",
    "from sklearn.metrics import mean_absolute_error\n",
    "from sklearn.model_selection import RandomizedSearchCV\n",
    "from sklearn.metrics import classification_report"
   ]
  },
  {
   "cell_type": "code",
   "execution_count": 34,
   "id": "e166fd79",
   "metadata": {},
   "outputs": [
    {
     "data": {
      "text/html": [
       "<style>#sk-container-id-1 {color: black;background-color: white;}#sk-container-id-1 pre{padding: 0;}#sk-container-id-1 div.sk-toggleable {background-color: white;}#sk-container-id-1 label.sk-toggleable__label {cursor: pointer;display: block;width: 100%;margin-bottom: 0;padding: 0.3em;box-sizing: border-box;text-align: center;}#sk-container-id-1 label.sk-toggleable__label-arrow:before {content: \"▸\";float: left;margin-right: 0.25em;color: #696969;}#sk-container-id-1 label.sk-toggleable__label-arrow:hover:before {color: black;}#sk-container-id-1 div.sk-estimator:hover label.sk-toggleable__label-arrow:before {color: black;}#sk-container-id-1 div.sk-toggleable__content {max-height: 0;max-width: 0;overflow: hidden;text-align: left;background-color: #f0f8ff;}#sk-container-id-1 div.sk-toggleable__content pre {margin: 0.2em;color: black;border-radius: 0.25em;background-color: #f0f8ff;}#sk-container-id-1 input.sk-toggleable__control:checked~div.sk-toggleable__content {max-height: 200px;max-width: 100%;overflow: auto;}#sk-container-id-1 input.sk-toggleable__control:checked~label.sk-toggleable__label-arrow:before {content: \"▾\";}#sk-container-id-1 div.sk-estimator input.sk-toggleable__control:checked~label.sk-toggleable__label {background-color: #d4ebff;}#sk-container-id-1 div.sk-label input.sk-toggleable__control:checked~label.sk-toggleable__label {background-color: #d4ebff;}#sk-container-id-1 input.sk-hidden--visually {border: 0;clip: rect(1px 1px 1px 1px);clip: rect(1px, 1px, 1px, 1px);height: 1px;margin: -1px;overflow: hidden;padding: 0;position: absolute;width: 1px;}#sk-container-id-1 div.sk-estimator {font-family: monospace;background-color: #f0f8ff;border: 1px dotted black;border-radius: 0.25em;box-sizing: border-box;margin-bottom: 0.5em;}#sk-container-id-1 div.sk-estimator:hover {background-color: #d4ebff;}#sk-container-id-1 div.sk-parallel-item::after {content: \"\";width: 100%;border-bottom: 1px solid gray;flex-grow: 1;}#sk-container-id-1 div.sk-label:hover label.sk-toggleable__label {background-color: #d4ebff;}#sk-container-id-1 div.sk-serial::before {content: \"\";position: absolute;border-left: 1px solid gray;box-sizing: border-box;top: 0;bottom: 0;left: 50%;z-index: 0;}#sk-container-id-1 div.sk-serial {display: flex;flex-direction: column;align-items: center;background-color: white;padding-right: 0.2em;padding-left: 0.2em;position: relative;}#sk-container-id-1 div.sk-item {position: relative;z-index: 1;}#sk-container-id-1 div.sk-parallel {display: flex;align-items: stretch;justify-content: center;background-color: white;position: relative;}#sk-container-id-1 div.sk-item::before, #sk-container-id-1 div.sk-parallel-item::before {content: \"\";position: absolute;border-left: 1px solid gray;box-sizing: border-box;top: 0;bottom: 0;left: 50%;z-index: -1;}#sk-container-id-1 div.sk-parallel-item {display: flex;flex-direction: column;z-index: 1;position: relative;background-color: white;}#sk-container-id-1 div.sk-parallel-item:first-child::after {align-self: flex-end;width: 50%;}#sk-container-id-1 div.sk-parallel-item:last-child::after {align-self: flex-start;width: 50%;}#sk-container-id-1 div.sk-parallel-item:only-child::after {width: 0;}#sk-container-id-1 div.sk-dashed-wrapped {border: 1px dashed gray;margin: 0 0.4em 0.5em 0.4em;box-sizing: border-box;padding-bottom: 0.4em;background-color: white;}#sk-container-id-1 div.sk-label label {font-family: monospace;font-weight: bold;display: inline-block;line-height: 1.2em;}#sk-container-id-1 div.sk-label-container {text-align: center;}#sk-container-id-1 div.sk-container {/* jupyter's `normalize.less` sets `[hidden] { display: none; }` but bootstrap.min.css set `[hidden] { display: none !important; }` so we also need the `!important` here to be able to override the default hidden behavior on the sphinx rendered scikit-learn.org. See: https://github.com/scikit-learn/scikit-learn/issues/21755 */display: inline-block !important;position: relative;}#sk-container-id-1 div.sk-text-repr-fallback {display: none;}</style><div id=\"sk-container-id-1\" class=\"sk-top-container\"><div class=\"sk-text-repr-fallback\"><pre>RandomForestClassifier(random_state=40)</pre><b>In a Jupyter environment, please rerun this cell to show the HTML representation or trust the notebook. <br />On GitHub, the HTML representation is unable to render, please try loading this page with nbviewer.org.</b></div><div class=\"sk-container\" hidden><div class=\"sk-item\"><div class=\"sk-estimator sk-toggleable\"><input class=\"sk-toggleable__control sk-hidden--visually\" id=\"sk-estimator-id-1\" type=\"checkbox\" checked><label for=\"sk-estimator-id-1\" class=\"sk-toggleable__label sk-toggleable__label-arrow\">RandomForestClassifier</label><div class=\"sk-toggleable__content\"><pre>RandomForestClassifier(random_state=40)</pre></div></div></div></div></div>"
      ],
      "text/plain": [
       "RandomForestClassifier(random_state=40)"
      ]
     },
     "execution_count": 34,
     "metadata": {},
     "output_type": "execute_result"
    }
   ],
   "source": [
    "model = RandomForestClassifier(random_state = 40)\n",
    "\n",
    "model.fit(X_train, y_train)"
   ]
  },
  {
   "cell_type": "code",
   "execution_count": null,
   "id": "064e0285",
   "metadata": {},
   "outputs": [],
   "source": []
  },
  {
   "cell_type": "code",
   "execution_count": 26,
   "id": "313d0a57",
   "metadata": {
    "execution": {
     "iopub.execute_input": "2022-10-19T12:33:56.014588Z",
     "iopub.status.busy": "2022-10-19T12:33:56.014149Z",
     "iopub.status.idle": "2022-10-19T12:33:56.379291Z",
     "shell.execute_reply": "2022-10-19T12:33:56.378131Z"
    },
    "papermill": {
     "duration": 0.401577,
     "end_time": "2022-10-19T12:33:56.382137",
     "exception": false,
     "start_time": "2022-10-19T12:33:55.980560",
     "status": "completed"
    },
    "tags": []
   },
   "outputs": [],
   "source": [
    "from sklearn.linear_model import LogisticRegression\n",
    "from sklearn.svm import SVC\n",
    "from sklearn.neighbors import KNeighborsClassifier\n",
    "from sklearn.tree import DecisionTreeClassifier\n",
    "from sklearn.preprocessing import StandardScaler\n",
    "from sklearn.ensemble import RandomForestClassifier\n",
    "from sklearn.naive_bayes import GaussianNB\n",
    "# from xgboost import XGBClassifier\n",
    "from sklearn.decomposition import PCA\n",
    "\n",
    "from sklearn.pipeline import Pipeline"
   ]
  },
  {
   "cell_type": "code",
   "execution_count": 27,
   "id": "adaeccd8",
   "metadata": {
    "execution": {
     "iopub.execute_input": "2022-10-19T12:33:56.448795Z",
     "iopub.status.busy": "2022-10-19T12:33:56.448337Z",
     "iopub.status.idle": "2022-10-19T12:33:56.458438Z",
     "shell.execute_reply": "2022-10-19T12:33:56.457043Z"
    },
    "papermill": {
     "duration": 0.047752,
     "end_time": "2022-10-19T12:33:56.461289",
     "exception": false,
     "start_time": "2022-10-19T12:33:56.413537",
     "status": "completed"
    },
    "tags": []
   },
   "outputs": [],
   "source": [
    "pipeline_lr=Pipeline([('scalar1',StandardScaler()),\n",
    "                     ('pca1',PCA(n_components=2)),\n",
    "                     ('lr_classifier',LogisticRegression(random_state=0))])\n",
    "pipeline_dt=Pipeline([('scalar2',StandardScaler()),\n",
    "                     ('pca2',PCA(n_components=2)),\n",
    "                     ('dt_classifier',DecisionTreeClassifier())])\n",
    "pipeline_randomforest=Pipeline([('scalar3',StandardScaler()),\n",
    "                     ('pca3',PCA(n_components=2)),\n",
    "                     ('rf_classifier',RandomForestClassifier())])\n",
    "pipeline_kernelsvm=Pipeline([('scalar3',StandardScaler()),\n",
    "                     ('pca3',PCA(n_components=2)),\n",
    "                     ('k_svm_classifier',SVC(kernel = 'rbf', random_state = 0))])\n",
    "\n",
    "pipeline_knn=Pipeline([('scalar5',StandardScaler()),\n",
    "                     ('pca3',PCA(n_components=2)),\n",
    "                     ('knn_classifier',KNeighborsClassifier(n_neighbors = 5, metric = 'minkowski', p = 2))])\n"
   ]
  },
  {
   "cell_type": "code",
   "execution_count": 28,
   "id": "95722237",
   "metadata": {
    "execution": {
     "iopub.execute_input": "2022-10-19T12:33:56.527405Z",
     "iopub.status.busy": "2022-10-19T12:33:56.526984Z",
     "iopub.status.idle": "2022-10-19T12:33:56.533556Z",
     "shell.execute_reply": "2022-10-19T12:33:56.532047Z"
    },
    "papermill": {
     "duration": 0.043236,
     "end_time": "2022-10-19T12:33:56.536040",
     "exception": false,
     "start_time": "2022-10-19T12:33:56.492804",
     "status": "completed"
    },
    "tags": []
   },
   "outputs": [],
   "source": [
    "\n",
    "pipelines = [pipeline_lr, pipeline_dt, pipeline_randomforest, pipeline_kernelsvm, pipeline_knn]"
   ]
  },
  {
   "cell_type": "code",
   "execution_count": 29,
   "id": "47d7a227",
   "metadata": {
    "execution": {
     "iopub.execute_input": "2022-10-19T12:33:56.605295Z",
     "iopub.status.busy": "2022-10-19T12:33:56.604583Z",
     "iopub.status.idle": "2022-10-19T12:33:57.690313Z",
     "shell.execute_reply": "2022-10-19T12:33:57.688367Z"
    },
    "papermill": {
     "duration": 1.126874,
     "end_time": "2022-10-19T12:33:57.695195",
     "exception": false,
     "start_time": "2022-10-19T12:33:56.568321",
     "status": "completed"
    },
    "tags": []
   },
   "outputs": [],
   "source": [
    "# Dictionary of pipelines and classifier types for ease of reference\n",
    "pipe_dict = {0: 'Logistic Regression', 1: 'Decision Tree', 2: 'RandomForest', 3:'Kernel SVM', 4:'KNN'}\n",
    "\n",
    "# Fit the pipelines\n",
    "for pipe in pipelines:\n",
    "\tpipe.fit(X_train, y_train)"
   ]
  },
  {
   "cell_type": "code",
   "execution_count": 30,
   "id": "b03f63a6",
   "metadata": {
    "execution": {
     "iopub.execute_input": "2022-10-19T12:33:57.844167Z",
     "iopub.status.busy": "2022-10-19T12:33:57.843756Z",
     "iopub.status.idle": "2022-10-19T12:33:57.953828Z",
     "shell.execute_reply": "2022-10-19T12:33:57.952009Z"
    },
    "papermill": {
     "duration": 0.146954,
     "end_time": "2022-10-19T12:33:57.956851",
     "exception": false,
     "start_time": "2022-10-19T12:33:57.809897",
     "status": "completed"
    },
    "tags": []
   },
   "outputs": [
    {
     "name": "stdout",
     "output_type": "stream",
     "text": [
      "Logistic Regression Test Accuracy: 0.9412915851272016\n",
      "Decision Tree Test Accuracy: 0.9099804305283757\n",
      "RandomForest Test Accuracy: 0.9422700587084148\n",
      "Kernel SVM Test Accuracy: 0.9412915851272016\n",
      "KNN Test Accuracy: 0.9393346379647749\n"
     ]
    }
   ],
   "source": [
    "\n",
    "for i,model in enumerate(pipelines):\n",
    "    print(\"{} Test Accuracy: {}\".format(pipe_dict[i],model.score(X_test,y_test)))"
   ]
  },
  {
   "cell_type": "code",
   "execution_count": 31,
   "id": "738d6661",
   "metadata": {
    "execution": {
     "iopub.execute_input": "2022-10-19T12:33:58.025681Z",
     "iopub.status.busy": "2022-10-19T12:33:58.024874Z",
     "iopub.status.idle": "2022-10-19T12:33:58.173241Z",
     "shell.execute_reply": "2022-10-19T12:33:58.171645Z"
    },
    "papermill": {
     "duration": 0.186259,
     "end_time": "2022-10-19T12:33:58.176028",
     "exception": false,
     "start_time": "2022-10-19T12:33:57.989769",
     "status": "completed"
    },
    "tags": []
   },
   "outputs": [
    {
     "name": "stdout",
     "output_type": "stream",
     "text": [
      "Classifier with best accuracy:RandomForest\n"
     ]
    }
   ],
   "source": [
    "best_accuracy=0.00\n",
    "for i,model in enumerate(pipelines):\n",
    "    if model.score(X_test,y_test)>best_accuracy:\n",
    "        best_accuracy=model.score(X_test,y_test)\n",
    "        best_pipeline=model\n",
    "        best_classifier=i\n",
    "print('Classifier with best accuracy:{}'.format(pipe_dict[best_classifier]))"
   ]
  },
  {
   "cell_type": "code",
   "execution_count": 36,
   "id": "f9d37e4e",
   "metadata": {},
   "outputs": [],
   "source": [
    "rf_clf=RandomForestClassifier()"
   ]
  },
  {
   "cell_type": "code",
   "execution_count": 37,
   "id": "5ac87baf",
   "metadata": {},
   "outputs": [
    {
     "data": {
      "text/html": [
       "<style>#sk-container-id-1 {color: black;background-color: white;}#sk-container-id-1 pre{padding: 0;}#sk-container-id-1 div.sk-toggleable {background-color: white;}#sk-container-id-1 label.sk-toggleable__label {cursor: pointer;display: block;width: 100%;margin-bottom: 0;padding: 0.3em;box-sizing: border-box;text-align: center;}#sk-container-id-1 label.sk-toggleable__label-arrow:before {content: \"▸\";float: left;margin-right: 0.25em;color: #696969;}#sk-container-id-1 label.sk-toggleable__label-arrow:hover:before {color: black;}#sk-container-id-1 div.sk-estimator:hover label.sk-toggleable__label-arrow:before {color: black;}#sk-container-id-1 div.sk-toggleable__content {max-height: 0;max-width: 0;overflow: hidden;text-align: left;background-color: #f0f8ff;}#sk-container-id-1 div.sk-toggleable__content pre {margin: 0.2em;color: black;border-radius: 0.25em;background-color: #f0f8ff;}#sk-container-id-1 input.sk-toggleable__control:checked~div.sk-toggleable__content {max-height: 200px;max-width: 100%;overflow: auto;}#sk-container-id-1 input.sk-toggleable__control:checked~label.sk-toggleable__label-arrow:before {content: \"▾\";}#sk-container-id-1 div.sk-estimator input.sk-toggleable__control:checked~label.sk-toggleable__label {background-color: #d4ebff;}#sk-container-id-1 div.sk-label input.sk-toggleable__control:checked~label.sk-toggleable__label {background-color: #d4ebff;}#sk-container-id-1 input.sk-hidden--visually {border: 0;clip: rect(1px 1px 1px 1px);clip: rect(1px, 1px, 1px, 1px);height: 1px;margin: -1px;overflow: hidden;padding: 0;position: absolute;width: 1px;}#sk-container-id-1 div.sk-estimator {font-family: monospace;background-color: #f0f8ff;border: 1px dotted black;border-radius: 0.25em;box-sizing: border-box;margin-bottom: 0.5em;}#sk-container-id-1 div.sk-estimator:hover {background-color: #d4ebff;}#sk-container-id-1 div.sk-parallel-item::after {content: \"\";width: 100%;border-bottom: 1px solid gray;flex-grow: 1;}#sk-container-id-1 div.sk-label:hover label.sk-toggleable__label {background-color: #d4ebff;}#sk-container-id-1 div.sk-serial::before {content: \"\";position: absolute;border-left: 1px solid gray;box-sizing: border-box;top: 0;bottom: 0;left: 50%;z-index: 0;}#sk-container-id-1 div.sk-serial {display: flex;flex-direction: column;align-items: center;background-color: white;padding-right: 0.2em;padding-left: 0.2em;position: relative;}#sk-container-id-1 div.sk-item {position: relative;z-index: 1;}#sk-container-id-1 div.sk-parallel {display: flex;align-items: stretch;justify-content: center;background-color: white;position: relative;}#sk-container-id-1 div.sk-item::before, #sk-container-id-1 div.sk-parallel-item::before {content: \"\";position: absolute;border-left: 1px solid gray;box-sizing: border-box;top: 0;bottom: 0;left: 50%;z-index: -1;}#sk-container-id-1 div.sk-parallel-item {display: flex;flex-direction: column;z-index: 1;position: relative;background-color: white;}#sk-container-id-1 div.sk-parallel-item:first-child::after {align-self: flex-end;width: 50%;}#sk-container-id-1 div.sk-parallel-item:last-child::after {align-self: flex-start;width: 50%;}#sk-container-id-1 div.sk-parallel-item:only-child::after {width: 0;}#sk-container-id-1 div.sk-dashed-wrapped {border: 1px dashed gray;margin: 0 0.4em 0.5em 0.4em;box-sizing: border-box;padding-bottom: 0.4em;background-color: white;}#sk-container-id-1 div.sk-label label {font-family: monospace;font-weight: bold;display: inline-block;line-height: 1.2em;}#sk-container-id-1 div.sk-label-container {text-align: center;}#sk-container-id-1 div.sk-container {/* jupyter's `normalize.less` sets `[hidden] { display: none; }` but bootstrap.min.css set `[hidden] { display: none !important; }` so we also need the `!important` here to be able to override the default hidden behavior on the sphinx rendered scikit-learn.org. See: https://github.com/scikit-learn/scikit-learn/issues/21755 */display: inline-block !important;position: relative;}#sk-container-id-1 div.sk-text-repr-fallback {display: none;}</style><div id=\"sk-container-id-1\" class=\"sk-top-container\"><div class=\"sk-text-repr-fallback\"><pre>RandomForestClassifier()</pre><b>In a Jupyter environment, please rerun this cell to show the HTML representation or trust the notebook. <br />On GitHub, the HTML representation is unable to render, please try loading this page with nbviewer.org.</b></div><div class=\"sk-container\" hidden><div class=\"sk-item\"><div class=\"sk-estimator sk-toggleable\"><input class=\"sk-toggleable__control sk-hidden--visually\" id=\"sk-estimator-id-1\" type=\"checkbox\" checked><label for=\"sk-estimator-id-1\" class=\"sk-toggleable__label sk-toggleable__label-arrow\">RandomForestClassifier</label><div class=\"sk-toggleable__content\"><pre>RandomForestClassifier()</pre></div></div></div></div></div>"
      ],
      "text/plain": [
       "RandomForestClassifier()"
      ]
     },
     "execution_count": 37,
     "metadata": {},
     "output_type": "execute_result"
    }
   ],
   "source": [
    "rf_clf.fit(X_train,y_train)"
   ]
  },
  {
   "cell_type": "code",
   "execution_count": 38,
   "id": "aabfeebf",
   "metadata": {},
   "outputs": [
    {
     "data": {
      "text/plain": [
       "1.0"
      ]
     },
     "execution_count": 38,
     "metadata": {},
     "output_type": "execute_result"
    }
   ],
   "source": [
    "rf_clf.score(X_train,y_train)"
   ]
  },
  {
   "cell_type": "code",
   "execution_count": 39,
   "id": "314cb4dc",
   "metadata": {},
   "outputs": [
    {
     "data": {
      "text/plain": [
       "0.9403131115459883"
      ]
     },
     "execution_count": 39,
     "metadata": {},
     "output_type": "execute_result"
    }
   ],
   "source": [
    "rf_clf.score(X_test,y_test)"
   ]
  },
  {
   "cell_type": "code",
   "execution_count": 43,
   "id": "1c028766",
   "metadata": {},
   "outputs": [
    {
     "data": {
      "text/html": [
       "<div>\n",
       "<style scoped>\n",
       "    .dataframe tbody tr th:only-of-type {\n",
       "        vertical-align: middle;\n",
       "    }\n",
       "\n",
       "    .dataframe tbody tr th {\n",
       "        vertical-align: top;\n",
       "    }\n",
       "\n",
       "    .dataframe thead th {\n",
       "        text-align: right;\n",
       "    }\n",
       "</style>\n",
       "<table border=\"1\" class=\"dataframe\">\n",
       "  <thead>\n",
       "    <tr style=\"text-align: right;\">\n",
       "      <th></th>\n",
       "      <th>age</th>\n",
       "      <th>hypertension</th>\n",
       "      <th>heart_disease</th>\n",
       "      <th>avg_glucose_level</th>\n",
       "      <th>bmi</th>\n",
       "      <th>gender_Female</th>\n",
       "      <th>gender_Male</th>\n",
       "      <th>gender_Other</th>\n",
       "      <th>ever_married_No</th>\n",
       "      <th>ever_married_Yes</th>\n",
       "      <th>...</th>\n",
       "      <th>work_type_Never_worked</th>\n",
       "      <th>work_type_Private</th>\n",
       "      <th>work_type_Self-employed</th>\n",
       "      <th>work_type_children</th>\n",
       "      <th>Residence_type_Rural</th>\n",
       "      <th>Residence_type_Urban</th>\n",
       "      <th>smoking_status_Unknown</th>\n",
       "      <th>smoking_status_formerly smoked</th>\n",
       "      <th>smoking_status_never smoked</th>\n",
       "      <th>smoking_status_smokes</th>\n",
       "    </tr>\n",
       "  </thead>\n",
       "  <tbody>\n",
       "    <tr>\n",
       "      <th>4152</th>\n",
       "      <td>55.0</td>\n",
       "      <td>0</td>\n",
       "      <td>0</td>\n",
       "      <td>73.57</td>\n",
       "      <td>28.0</td>\n",
       "      <td>0</td>\n",
       "      <td>1</td>\n",
       "      <td>0</td>\n",
       "      <td>0</td>\n",
       "      <td>1</td>\n",
       "      <td>...</td>\n",
       "      <td>0</td>\n",
       "      <td>0</td>\n",
       "      <td>1</td>\n",
       "      <td>0</td>\n",
       "      <td>1</td>\n",
       "      <td>0</td>\n",
       "      <td>0</td>\n",
       "      <td>0</td>\n",
       "      <td>0</td>\n",
       "      <td>1</td>\n",
       "    </tr>\n",
       "    <tr>\n",
       "      <th>4051</th>\n",
       "      <td>55.0</td>\n",
       "      <td>0</td>\n",
       "      <td>0</td>\n",
       "      <td>231.15</td>\n",
       "      <td>22.3</td>\n",
       "      <td>0</td>\n",
       "      <td>1</td>\n",
       "      <td>0</td>\n",
       "      <td>0</td>\n",
       "      <td>1</td>\n",
       "      <td>...</td>\n",
       "      <td>0</td>\n",
       "      <td>0</td>\n",
       "      <td>0</td>\n",
       "      <td>0</td>\n",
       "      <td>0</td>\n",
       "      <td>1</td>\n",
       "      <td>0</td>\n",
       "      <td>0</td>\n",
       "      <td>1</td>\n",
       "      <td>0</td>\n",
       "    </tr>\n",
       "    <tr>\n",
       "      <th>5076</th>\n",
       "      <td>34.0</td>\n",
       "      <td>0</td>\n",
       "      <td>0</td>\n",
       "      <td>174.37</td>\n",
       "      <td>23.0</td>\n",
       "      <td>1</td>\n",
       "      <td>0</td>\n",
       "      <td>0</td>\n",
       "      <td>0</td>\n",
       "      <td>1</td>\n",
       "      <td>...</td>\n",
       "      <td>0</td>\n",
       "      <td>1</td>\n",
       "      <td>0</td>\n",
       "      <td>0</td>\n",
       "      <td>1</td>\n",
       "      <td>0</td>\n",
       "      <td>0</td>\n",
       "      <td>0</td>\n",
       "      <td>1</td>\n",
       "      <td>0</td>\n",
       "    </tr>\n",
       "    <tr>\n",
       "      <th>874</th>\n",
       "      <td>80.0</td>\n",
       "      <td>0</td>\n",
       "      <td>0</td>\n",
       "      <td>56.99</td>\n",
       "      <td>26.7</td>\n",
       "      <td>0</td>\n",
       "      <td>1</td>\n",
       "      <td>0</td>\n",
       "      <td>0</td>\n",
       "      <td>1</td>\n",
       "      <td>...</td>\n",
       "      <td>0</td>\n",
       "      <td>1</td>\n",
       "      <td>0</td>\n",
       "      <td>0</td>\n",
       "      <td>1</td>\n",
       "      <td>0</td>\n",
       "      <td>0</td>\n",
       "      <td>0</td>\n",
       "      <td>1</td>\n",
       "      <td>0</td>\n",
       "    </tr>\n",
       "    <tr>\n",
       "      <th>3534</th>\n",
       "      <td>61.0</td>\n",
       "      <td>0</td>\n",
       "      <td>0</td>\n",
       "      <td>108.18</td>\n",
       "      <td>19.1</td>\n",
       "      <td>1</td>\n",
       "      <td>0</td>\n",
       "      <td>0</td>\n",
       "      <td>0</td>\n",
       "      <td>1</td>\n",
       "      <td>...</td>\n",
       "      <td>0</td>\n",
       "      <td>1</td>\n",
       "      <td>0</td>\n",
       "      <td>0</td>\n",
       "      <td>0</td>\n",
       "      <td>1</td>\n",
       "      <td>0</td>\n",
       "      <td>0</td>\n",
       "      <td>1</td>\n",
       "      <td>0</td>\n",
       "    </tr>\n",
       "    <tr>\n",
       "      <th>...</th>\n",
       "      <td>...</td>\n",
       "      <td>...</td>\n",
       "      <td>...</td>\n",
       "      <td>...</td>\n",
       "      <td>...</td>\n",
       "      <td>...</td>\n",
       "      <td>...</td>\n",
       "      <td>...</td>\n",
       "      <td>...</td>\n",
       "      <td>...</td>\n",
       "      <td>...</td>\n",
       "      <td>...</td>\n",
       "      <td>...</td>\n",
       "      <td>...</td>\n",
       "      <td>...</td>\n",
       "      <td>...</td>\n",
       "      <td>...</td>\n",
       "      <td>...</td>\n",
       "      <td>...</td>\n",
       "      <td>...</td>\n",
       "      <td>...</td>\n",
       "    </tr>\n",
       "    <tr>\n",
       "      <th>2895</th>\n",
       "      <td>46.0</td>\n",
       "      <td>0</td>\n",
       "      <td>0</td>\n",
       "      <td>137.77</td>\n",
       "      <td>29.3</td>\n",
       "      <td>0</td>\n",
       "      <td>1</td>\n",
       "      <td>0</td>\n",
       "      <td>0</td>\n",
       "      <td>1</td>\n",
       "      <td>...</td>\n",
       "      <td>0</td>\n",
       "      <td>1</td>\n",
       "      <td>0</td>\n",
       "      <td>0</td>\n",
       "      <td>0</td>\n",
       "      <td>1</td>\n",
       "      <td>0</td>\n",
       "      <td>0</td>\n",
       "      <td>1</td>\n",
       "      <td>0</td>\n",
       "    </tr>\n",
       "    <tr>\n",
       "      <th>2763</th>\n",
       "      <td>45.0</td>\n",
       "      <td>0</td>\n",
       "      <td>0</td>\n",
       "      <td>63.73</td>\n",
       "      <td>32.0</td>\n",
       "      <td>1</td>\n",
       "      <td>0</td>\n",
       "      <td>0</td>\n",
       "      <td>0</td>\n",
       "      <td>1</td>\n",
       "      <td>...</td>\n",
       "      <td>0</td>\n",
       "      <td>1</td>\n",
       "      <td>0</td>\n",
       "      <td>0</td>\n",
       "      <td>1</td>\n",
       "      <td>0</td>\n",
       "      <td>1</td>\n",
       "      <td>0</td>\n",
       "      <td>0</td>\n",
       "      <td>0</td>\n",
       "    </tr>\n",
       "    <tr>\n",
       "      <th>905</th>\n",
       "      <td>31.0</td>\n",
       "      <td>0</td>\n",
       "      <td>0</td>\n",
       "      <td>76.26</td>\n",
       "      <td>35.6</td>\n",
       "      <td>1</td>\n",
       "      <td>0</td>\n",
       "      <td>0</td>\n",
       "      <td>0</td>\n",
       "      <td>1</td>\n",
       "      <td>...</td>\n",
       "      <td>0</td>\n",
       "      <td>1</td>\n",
       "      <td>0</td>\n",
       "      <td>0</td>\n",
       "      <td>1</td>\n",
       "      <td>0</td>\n",
       "      <td>0</td>\n",
       "      <td>0</td>\n",
       "      <td>1</td>\n",
       "      <td>0</td>\n",
       "    </tr>\n",
       "    <tr>\n",
       "      <th>3980</th>\n",
       "      <td>45.0</td>\n",
       "      <td>0</td>\n",
       "      <td>0</td>\n",
       "      <td>218.10</td>\n",
       "      <td>55.0</td>\n",
       "      <td>1</td>\n",
       "      <td>0</td>\n",
       "      <td>0</td>\n",
       "      <td>0</td>\n",
       "      <td>1</td>\n",
       "      <td>...</td>\n",
       "      <td>0</td>\n",
       "      <td>1</td>\n",
       "      <td>0</td>\n",
       "      <td>0</td>\n",
       "      <td>1</td>\n",
       "      <td>0</td>\n",
       "      <td>0</td>\n",
       "      <td>0</td>\n",
       "      <td>0</td>\n",
       "      <td>1</td>\n",
       "    </tr>\n",
       "    <tr>\n",
       "      <th>235</th>\n",
       "      <td>68.0</td>\n",
       "      <td>0</td>\n",
       "      <td>0</td>\n",
       "      <td>211.06</td>\n",
       "      <td>39.3</td>\n",
       "      <td>1</td>\n",
       "      <td>0</td>\n",
       "      <td>0</td>\n",
       "      <td>0</td>\n",
       "      <td>1</td>\n",
       "      <td>...</td>\n",
       "      <td>0</td>\n",
       "      <td>1</td>\n",
       "      <td>0</td>\n",
       "      <td>0</td>\n",
       "      <td>1</td>\n",
       "      <td>0</td>\n",
       "      <td>1</td>\n",
       "      <td>0</td>\n",
       "      <td>0</td>\n",
       "      <td>0</td>\n",
       "    </tr>\n",
       "  </tbody>\n",
       "</table>\n",
       "<p>4088 rows × 21 columns</p>\n",
       "</div>"
      ],
      "text/plain": [
       "       age  hypertension  heart_disease  avg_glucose_level   bmi  \\\n",
       "4152  55.0             0              0              73.57  28.0   \n",
       "4051  55.0             0              0             231.15  22.3   \n",
       "5076  34.0             0              0             174.37  23.0   \n",
       "874   80.0             0              0              56.99  26.7   \n",
       "3534  61.0             0              0             108.18  19.1   \n",
       "...    ...           ...            ...                ...   ...   \n",
       "2895  46.0             0              0             137.77  29.3   \n",
       "2763  45.0             0              0              63.73  32.0   \n",
       "905   31.0             0              0              76.26  35.6   \n",
       "3980  45.0             0              0             218.10  55.0   \n",
       "235   68.0             0              0             211.06  39.3   \n",
       "\n",
       "      gender_Female  gender_Male  gender_Other  ever_married_No  \\\n",
       "4152              0            1             0                0   \n",
       "4051              0            1             0                0   \n",
       "5076              1            0             0                0   \n",
       "874               0            1             0                0   \n",
       "3534              1            0             0                0   \n",
       "...             ...          ...           ...              ...   \n",
       "2895              0            1             0                0   \n",
       "2763              1            0             0                0   \n",
       "905               1            0             0                0   \n",
       "3980              1            0             0                0   \n",
       "235               1            0             0                0   \n",
       "\n",
       "      ever_married_Yes  ...  work_type_Never_worked  work_type_Private  \\\n",
       "4152                 1  ...                       0                  0   \n",
       "4051                 1  ...                       0                  0   \n",
       "5076                 1  ...                       0                  1   \n",
       "874                  1  ...                       0                  1   \n",
       "3534                 1  ...                       0                  1   \n",
       "...                ...  ...                     ...                ...   \n",
       "2895                 1  ...                       0                  1   \n",
       "2763                 1  ...                       0                  1   \n",
       "905                  1  ...                       0                  1   \n",
       "3980                 1  ...                       0                  1   \n",
       "235                  1  ...                       0                  1   \n",
       "\n",
       "      work_type_Self-employed  work_type_children  Residence_type_Rural  \\\n",
       "4152                        1                   0                     1   \n",
       "4051                        0                   0                     0   \n",
       "5076                        0                   0                     1   \n",
       "874                         0                   0                     1   \n",
       "3534                        0                   0                     0   \n",
       "...                       ...                 ...                   ...   \n",
       "2895                        0                   0                     0   \n",
       "2763                        0                   0                     1   \n",
       "905                         0                   0                     1   \n",
       "3980                        0                   0                     1   \n",
       "235                         0                   0                     1   \n",
       "\n",
       "      Residence_type_Urban  smoking_status_Unknown  \\\n",
       "4152                     0                       0   \n",
       "4051                     1                       0   \n",
       "5076                     0                       0   \n",
       "874                      0                       0   \n",
       "3534                     1                       0   \n",
       "...                    ...                     ...   \n",
       "2895                     1                       0   \n",
       "2763                     0                       1   \n",
       "905                      0                       0   \n",
       "3980                     0                       0   \n",
       "235                      0                       1   \n",
       "\n",
       "      smoking_status_formerly smoked  smoking_status_never smoked  \\\n",
       "4152                               0                            0   \n",
       "4051                               0                            1   \n",
       "5076                               0                            1   \n",
       "874                                0                            1   \n",
       "3534                               0                            1   \n",
       "...                              ...                          ...   \n",
       "2895                               0                            1   \n",
       "2763                               0                            0   \n",
       "905                                0                            1   \n",
       "3980                               0                            0   \n",
       "235                                0                            0   \n",
       "\n",
       "      smoking_status_smokes  \n",
       "4152                      1  \n",
       "4051                      0  \n",
       "5076                      0  \n",
       "874                       0  \n",
       "3534                      0  \n",
       "...                     ...  \n",
       "2895                      0  \n",
       "2763                      0  \n",
       "905                       0  \n",
       "3980                      1  \n",
       "235                       0  \n",
       "\n",
       "[4088 rows x 21 columns]"
      ]
     },
     "execution_count": 43,
     "metadata": {},
     "output_type": "execute_result"
    }
   ],
   "source": [
    "X_train"
   ]
  },
  {
   "cell_type": "code",
   "execution_count": 42,
   "id": "301e13dd",
   "metadata": {},
   "outputs": [
    {
     "ename": "TypeError",
     "evalue": "ForestClassifier.predict() takes 2 positional arguments but 11 were given",
     "output_type": "error",
     "traceback": [
      "\u001b[1;31m---------------------------------------------------------------------------\u001b[0m",
      "\u001b[1;31mTypeError\u001b[0m                                 Traceback (most recent call last)",
      "Input \u001b[1;32mIn [42]\u001b[0m, in \u001b[0;36m<cell line: 1>\u001b[1;34m()\u001b[0m\n\u001b[1;32m----> 1\u001b[0m \u001b[43mrf_clf\u001b[49m\u001b[38;5;241;43m.\u001b[39;49m\u001b[43mpredict\u001b[49m\u001b[43m(\u001b[49m\u001b[38;5;124;43m\"\u001b[39;49m\u001b[38;5;124;43mMale\u001b[39;49m\u001b[38;5;124;43m\"\u001b[39;49m\u001b[43m,\u001b[49m\u001b[38;5;241;43m67\u001b[39;49m\u001b[43m,\u001b[49m\u001b[38;5;241;43m0\u001b[39;49m\u001b[43m,\u001b[49m\u001b[38;5;241;43m1\u001b[39;49m\u001b[43m,\u001b[49m\u001b[38;5;124;43m\"\u001b[39;49m\u001b[38;5;124;43mYes\u001b[39;49m\u001b[38;5;124;43m\"\u001b[39;49m\u001b[43m,\u001b[49m\u001b[38;5;124;43m\"\u001b[39;49m\u001b[38;5;124;43mPrivate\u001b[39;49m\u001b[38;5;124;43m\"\u001b[39;49m\u001b[43m,\u001b[49m\u001b[38;5;124;43m\"\u001b[39;49m\u001b[38;5;124;43mUrban\u001b[39;49m\u001b[38;5;124;43m\"\u001b[39;49m\u001b[43m,\u001b[49m\u001b[38;5;241;43m228.69\u001b[39;49m\u001b[43m,\u001b[49m\u001b[38;5;241;43m36.6\u001b[39;49m\u001b[43m,\u001b[49m\u001b[38;5;124;43m\"\u001b[39;49m\u001b[38;5;124;43mformerly smoked\u001b[39;49m\u001b[38;5;124;43m\"\u001b[39;49m\u001b[43m)\u001b[49m\n",
      "\u001b[1;31mTypeError\u001b[0m: ForestClassifier.predict() takes 2 positional arguments but 11 were given"
     ]
    }
   ],
   "source": [
    "rf_clf.predict(\"Male\",67,0,1,\"Yes\",\"Private\",\"Urban\",228.69,36.6,\"formerly smoked\")"
   ]
  },
  {
   "cell_type": "code",
   "execution_count": null,
   "id": "f8d00f5d",
   "metadata": {},
   "outputs": [],
   "source": []
  }
 ],
 "metadata": {
  "kernelspec": {
   "display_name": "Python 3 (ipykernel)",
   "language": "python",
   "name": "python3"
  },
  "language_info": {
   "codemirror_mode": {
    "name": "ipython",
    "version": 3
   },
   "file_extension": ".py",
   "mimetype": "text/x-python",
   "name": "python",
   "nbconvert_exporter": "python",
   "pygments_lexer": "ipython3",
   "version": "3.10.4"
  },
  "papermill": {
   "default_parameters": {},
   "duration": 44.206433,
   "end_time": "2022-10-19T12:33:59.231597",
   "environment_variables": {},
   "exception": null,
   "input_path": "__notebook__.ipynb",
   "output_path": "__notebook__.ipynb",
   "parameters": {},
   "start_time": "2022-10-19T12:33:15.025164",
   "version": "2.3.4"
  }
 },
 "nbformat": 4,
 "nbformat_minor": 5
}
